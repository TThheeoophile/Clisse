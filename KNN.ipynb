{
 "cells": [
  {
   "cell_type": "code",
   "execution_count": 1,
   "metadata": {},
   "outputs": [],
   "source": [
    "import numpy as np\n",
    "import matplotlib.pyplot as plt"
   ]
  },
  {
   "cell_type": "code",
   "execution_count": 2,
   "metadata": {},
   "outputs": [],
   "source": [
    "from sklearn.datasets import fetch_openml\n",
    "mnist = fetch_openml('mnist_784', version=1)"
   ]
  },
  {
   "cell_type": "code",
   "execution_count": 2,
   "metadata": {},
   "outputs": [
    {
     "name": "stdout",
     "output_type": "stream",
     "text": [
      "(70000, 784)\n",
      "(70000,)\n"
     ]
    }
   ],
   "source": [
    "# Le dataset principal qui contient toutes les images\n",
    "print (mnist.data.shape)\n",
    "\n",
    "# Le vecteur d'annotations associé au dataset (nombre entre 0 et 9)\n",
    "print (mnist.target.shape)"
   ]
  },
  {
   "cell_type": "code",
   "execution_count": 3,
   "metadata": {},
   "outputs": [],
   "source": [
    "sample = np.random.randint(70000, size=5000)\n",
    "data = mnist.data[sample]\n",
    "target = mnist.target[sample]"
   ]
  },
  {
   "cell_type": "code",
   "execution_count": 25,
   "metadata": {},
   "outputs": [],
   "source": [
    "from sklearn.model_selection import train_test_split\n",
    "\n",
    "xtrain, xtest, ytrain, ytest = train_test_split(data, target, train_size=0.8)"
   ]
  },
  {
   "cell_type": "code",
   "execution_count": 7,
   "metadata": {},
   "outputs": [
    {
     "data": {
      "text/plain": [
       "KNeighborsClassifier(algorithm='auto', leaf_size=30, metric='minkowski',\n",
       "                     metric_params=None, n_jobs=None, n_neighbors=3, p=2,\n",
       "                     weights='uniform')"
      ]
     },
     "execution_count": 7,
     "metadata": {},
     "output_type": "execute_result"
    }
   ],
   "source": [
    "from sklearn import neighbors\n",
    "\n",
    "knn = neighbors.KNeighborsClassifier(n_neighbors=3)\n",
    "knn.fit(xtrain, ytrain)"
   ]
  },
  {
   "cell_type": "code",
   "execution_count": 8,
   "metadata": {},
   "outputs": [
    {
     "name": "stdout",
     "output_type": "stream",
     "text": [
      "Erreur: 0.074000\n"
     ]
    }
   ],
   "source": [
    "error = 1 - knn.score(xtest, ytest)\n",
    "print('Erreur: %f' % error)"
   ]
  },
  {
   "cell_type": "code",
   "execution_count": 11,
   "metadata": {},
   "outputs": [
    {
     "data": {
      "image/png": "[encoded data removed]",
      "text/plain": [
       "<Figure size 432x288 with 1 Axes>"
      ]
     },
     "metadata": {
      "needs_background": "light"
     },
     "output_type": "display_data"
    }
   ],
   "source": [
    "errors = []\n",
    "for k in range(2,15):\n",
    "    knn = neighbors.KNeighborsClassifier(k)\n",
    "    errors.append(100*(1 - knn.fit(xtrain, ytrain).score(xtest, ytest)))\n",
    "plt.plot(range(2,15), errors, 'o-')\n",
    "plt.show()"
   ]
  },
  {
   "cell_type": "code",
   "execution_count": 12,
   "metadata": {},
   "outputs": [
    {
     "data": {
      "image/png": "[encoded data removed]",
      "text/plain": [
       "<Figure size 432x288 with 12 Axes>"
      ]
     },
     "metadata": {
      "needs_background": "light"
     },
     "output_type": "display_data"
    }
   ],
   "source": [
    "# On récupère le classifieur le plus performant\n",
    "knn = neighbors.KNeighborsClassifier(9)\n",
    "knn.fit(xtrain, ytrain)\n",
    "\n",
    "# On récupère les prédictions sur les données test\n",
    "predicted = knn.predict(xtest)\n",
    "\n",
    "# On redimensionne les données sous forme d'images\n",
    "images = xtest.reshape((-1, 28, 28))\n",
    "\n",
    "# On selectionne un echantillon de 12 images au hasard\n",
    "select = np.random.randint(images.shape[0], size=12)\n",
    "\n",
    "# On affiche les images avec la prédiction associée\n",
    "fig,ax = plt.subplots(3,4)\n",
    "\n",
    "for index, value in enumerate(select):\n",
    "    plt.subplot(3,4,index+1)\n",
    "    plt.axis('off')\n",
    "    plt.imshow(images[value],cmap=plt.cm.gray_r,interpolation=\"nearest\")\n",
    "    plt.title('Predicted: {}'.format( predicted[value]) )\n",
    "\n",
    "plt.show()"
   ]
  },
  {
   "cell_type": "markdown",
   "metadata": {},
   "source": [
    "# II – Classifieurs naïfs de Bayes\n",
    "Deux types de classifieurs sont testés ici : `MultinomialNB` et `CategoricalNB`. Des exemples d'estimations sont donnés, la qualité des classifieurs est mesurée.\n",
    "\n",
    "Les variables (les 784 pixels) sont catégorielles, elles peuvent prendre les valeurs entières entre `0` et `255`. \n",
    "Les données de départ, bien que des nombres entiers, sont des `float64`. Nous les avons transformés en `np.uint8` pensant que cela prendrait moins de place en mémoire et moins de temps à l'exécution, cependant, c'est le contraire pour l'exécution, surtout sur la deuxième partie (classification générale). Néanmoins, à quelques centièmes ou millièmes près, les résultats sont légèrement meilleurs avec les données de type `np.uint8`. \n",
    "Pour des soucis d'efficacité, travaillons sur les données d'origine, en `float64`.\n",
    "\n",
    "De même, les classes à identifier peuvent être laisées telles quelles, auquel cas la classification binaire ne marchera pas, ou bien ils peuvent être transformés en `np.int8` (c'est plus sûr).\n",
    "\n",
    "Dans les deux types de classification, les classifieurs naïfs bayésiens multinomial et gaussien seront utilisés, multinomial car les données sont catégorielles, et gaussiens « par curiosité », car comme l'âge, nous aurions pu considérer les variables comme numériques. Nous avons essayé le classifieur `CategoricalNB` de `sklearn` mais nous recontrons un problème lors du calcul du score, apparemment d'index. Cependant lorsque les prédictions sont prises une par une, ou même dans une boucle, cela marche bien. Dans tous les cas, *quel est la différence entre le `CategoricalNB` et le `MultinomialNB` ?*\n",
    "\n",
    "D'après ce que je comprends, `CategoricalNB` est à utilisé lorsque les variables sont qualitatives avec des modalités différentes. De plus, cet algorithme suppose que les variables sont qualitatives *ordinales* (ce qui est bien le cas dans notre exemple puisque la puissance du pixel est encodée. Quant à `MultinomialNB`, cet algorithme suppose que toutes les variables suivent la même loi multinomiale ? \n",
    "\n",
    "En général, les classifieurs naïfs de Bayes, bien que requerrant des hypothèses irréelles (indépendance des variables) sont de bons classifieurs, surtout dans le cas d'une prédiction de classe, lorsque le $Y$ à prédire est qualitatif. Ils sont de bons classifieurs, mais de mauvais estimateurs de probabilités. Par exemple, si $\\mathbb{P}(7|x) = 0.9$ et $\\mathbb{P}(non-7|x) = 0.1$, le classifieur peut estimer $\\mathbb{P}'(7|x) = 0.6$ et $\\mathbb{P}'(\\lnot 7|x) = 0.4$, qui sont de très mauvaises estimations, mais la classfication n'est pas affectée de cette mauvaise estimation de probabilité.\n",
    "\n",
    "Il a été démontré par **Harry Zhang**, dans [*The Optimality of Naive Bayes*](https://www.cs.unb.ca/~hzhang/publications/FLAIRS04ZhangH.pdf) que sous certaines conditions, dans le cadre de variables gaussiennes (donc du classifieur naïf gaussien) ce dernier peut être optimal/équivalent au classifieur optimal de Bayes, même lorsque l'indépendance conditionnelle n'est pas respectée. Cela arrive lorsque les dépendances entre variables « s'annulent ». Ce résultat est théorique. En pratique, lorsque nous avons deux variables explicatives gaussiennes et deux classes à prédire, ce qui va affecter la performance du classifieur naïf, c'est le rapport des distances entre les moyennes d'une variable pour les deux classes : \n",
    "\n",
    "$$ r = \\dfrac{\\mu_2^+ - \\mu_2^-}{\\mu_1^+ - \\mu_1^-}, $$  avec $\\mu_i^+$ étant la moyenne des $X_i$ dans la classe $+$.\n",
    "\n",
    "Plus $|r|$ est petit, plus le classifieur naïf sera performant. \n",
    "\n",
    "Référence : **Harry Zhang**, [*The Optimality of Naive Bayes*](https://www.cs.unb.ca/~hzhang/publications/FLAIRS04ZhangH.pdf)"
   ]
  },
  {
   "cell_type": "code",
   "execution_count": 26,
   "metadata": {},
   "outputs": [],
   "source": [
    "from sklearn.naive_bayes import CategoricalNB, MultinomialNB, GaussianNB\n",
    "from sklearn.metrics import balanced_accuracy_score\n",
    "# xtrain, xtest = xtrain.astype(np.uint8), xtest.astype(np.uint8)\n",
    "ytrain, ytest = ytrain.astype(np.int8), ytest.astype(np.int8)"
   ]
  },
  {
   "cell_type": "markdown",
   "metadata": {},
   "source": [
    "## A) Sept ou pas ? classification binaire\n",
    "Essayons de prédire si le chiffre entré est un sept ou pas."
   ]
  },
  {
   "cell_type": "code",
   "execution_count": 27,
   "metadata": {},
   "outputs": [],
   "source": [
    "ytrain7 = ytrain == 7\n",
    "ytest7 = ytest == 7"
   ]
  },
  {
   "cell_type": "markdown",
   "metadata": {},
   "source": [
    "### 1. Classifieur multinomial : `MultinomialNB`"
   ]
  },
  {
   "cell_type": "code",
   "execution_count": 28,
   "metadata": {},
   "outputs": [
    {
     "name": "stdout",
     "output_type": "stream",
     "text": [
      "[False] False [9]\n",
      "[False] False [4]\n",
      "[False] False [4]\n",
      "[False] False [3]\n",
      "[False] False [8]\n",
      "0.922 0.7858548663576916\n"
     ]
    }
   ],
   "source": [
    "clf_7M = MultinomialNB()\n",
    "clf_7M.fit(xtrain, ytrain7)\n",
    "for i in range(5) :\n",
    "    print(clf_7M.predict(xtest[i:i+1]), \n",
    "          ytest7[i], \n",
    "          ytest[i : i+1])\n",
    "\n",
    "score_7M = clf_7M.score(xtest, ytest7)\n",
    "balanced_score_7M = balanced_accuracy_score(clf_7M.predict(xtest), ytest7)\n",
    "print(score_7M, balanced_score_7M)"
   ]
  },
  {
   "cell_type": "markdown",
   "metadata": {},
   "source": [
    "La méthode `score` calcule le nombre de prédiction correctement effectuées **en tout**. Ainsi, dans une classification binaire comme celle-ci, avec un jeu de données déséquilibré (il y a plus de non-`7` que de `7`) beaucoup de prédiction se porteront sur des non-`7`, ce qui ne sera pas faux, d'où la mesure élevée. En revanche, il y aura un plus faible nombre de `7` correctement prédit. C'est là que la fonction `balanced_accuracy_score` de `sklearn.metrics` est utile car elle pondère ces résultats et nous remet les pieds sur Terre ! \n",
    "\n",
    "### 2. Classifieur catégoriel : `CategoricalNB`"
   ]
  },
  {
   "cell_type": "code",
   "execution_count": 14,
   "metadata": {},
   "outputs": [
    {
     "name": "stdout",
     "output_type": "stream",
     "text": [
      "[False] False [9]\n",
      "[False] True [7]\n",
      "[False] False [8]\n",
      "[False] False [2]\n",
      "[False] False [1]\n"
     ]
    }
   ],
   "source": [
    "clf_7C = CategoricalNB()\n",
    "clf_7C.fit(xtrain, ytrain7)\n",
    "for i in range(5) :\n",
    "    print(clf_7C.predict(xtest[i:i+1]), \n",
    "          ytest7[i], \n",
    "          ytest[i : i+1])\n",
    "\n",
    "# erreur à suivre :\n",
    "# score_7C = clf_7C.score(test_data, test_7target)\n",
    "# balanced_score_7C = balanced_accuracy_score(clf_7C.predict(xtest), ytest7)\n",
    "# print(score_7C, balanced_score_7C)"
   ]
  },
  {
   "cell_type": "markdown",
   "metadata": {},
   "source": [
    "##  B) 0 ? 1 ? ... 9 ? : classification générale\n",
    "Essayons de prédire le chiffre.\n",
    "### 1. `MultinomialNB`"
   ]
  },
  {
   "cell_type": "code",
   "execution_count": 29,
   "metadata": {},
   "outputs": [
    {
     "name": "stdout",
     "output_type": "stream",
     "text": [
      "[9] 9\n",
      "[8] 4\n",
      "[4] 4\n",
      "[3] 3\n",
      "[1] 8\n",
      "0.816 0.8257510283408699\n"
     ]
    }
   ],
   "source": [
    "clf_M = MultinomialNB()\n",
    "clf_M.fit(xtrain, ytrain)\n",
    "for i in range(5) :\n",
    "    print(clf_M.predict(xtest[i:i+1]), \n",
    "          ytest[i])\n",
    "\n",
    "score_M = clf_M.score(xtest, ytest)\n",
    "balanced_score_M = balanced_accuracy_score(clf_M.predict(xtest), ytest)\n",
    "print(score_M, balanced_score_M)"
   ]
  },
  {
   "cell_type": "markdown",
   "metadata": {},
   "source": [
    "Ici, le jeu de données est plus équilibré, d'où la faible différence entre les deux mesures.\n",
    "Cette différence peut être d'autant plus réduite que, lors de la séparation du jeu de données en une base d'entraînement et de test, on indique à `sklearn` de distribuer, tant que faire se peut, équitablement les données entre les deux bases (proportionnellement autant de `0` que de `1` que de `2`... dans la base d'entraînement que dans la base de test) :  "
   ]
  },
  {
   "cell_type": "code",
   "execution_count": 30,
   "metadata": {},
   "outputs": [
    {
     "name": "stdout",
     "output_type": "stream",
     "text": [
      "[8] 8\n",
      "[1] 1\n",
      "[3] 3\n",
      "[2] 2\n",
      "[1] 1\n",
      "0.84 0.8476874068516572\n"
     ]
    }
   ],
   "source": [
    "xtrain, xtest, ytrain, ytest = train_test_split(data, target, train_size = 0.8, stratify = target) # option stratify = target !\n",
    "ytrain, ytest = ytrain.astype(np.int8), ytest.astype(np.int8)\n",
    "\n",
    "clf_M = MultinomialNB()\n",
    "clf_M.fit(xtrain, ytrain)\n",
    "for i in range(5) :\n",
    "    print(clf_M.predict(xtest[i:i+1]), \n",
    "          ytest[i])\n",
    "\n",
    "score_M = clf_M.score(xtest, ytest)\n",
    "balanced_score_M = balanced_accuracy_score(clf_M.predict(xtest), ytest)\n",
    "print(score_M, balanced_score_M)"
   ]
  },
  {
   "cell_type": "markdown",
   "metadata": {},
   "source": [
    "*Cool, la mesure en est même encore améliorée !*\n",
    "\n",
    "### 2. `CategoricalNB`"
   ]
  },
  {
   "cell_type": "code",
   "execution_count": 19,
   "metadata": {},
   "outputs": [
    {
     "name": "stdout",
     "output_type": "stream",
     "text": [
      "[7] 9\n",
      "[7] 7\n",
      "[8] 8\n",
      "[2] 2\n",
      "[1] 1\n"
     ]
    }
   ],
   "source": [
    "clf_C = CategoricalNB()\n",
    "clf_C.fit(xtrain, ytrain)\n",
    "for i in range(5) :\n",
    "    print(clf_C.predict(xtest[i:i+1]), \n",
    "          ytest[i])\n",
    "\n",
    "# score_C = clf_C.score(xtest, ytest)\n",
    "# balanced_score_C = balanced_accuracy_score(clf_C.predict(xtest), ytest)\n",
    "# print(score_C, balanced_score_C)\n",
    "\n",
    "# Dommage que le score ne fonctionne pas \n",
    "# car la première prédiction est bonne contrairement à celle du classifieur multinomial !"
   ]
  },
  {
   "cell_type": "markdown",
   "metadata": {},
   "source": [
    "## C) Et en grande dimension ?\n",
    "`sklearn` permet de gérer le fléau de la grande dimension grâce à la méthode `partial_fit` qui permet de d'apprendre petit à petit, ou bien de se mettre à jour toutes les semaines par exemple, sans avoir à tout réapprendre à chaque fois. Nous en montrons un exemple, sur l'ensemble des données : "
   ]
  },
  {
   "cell_type": "code",
   "execution_count": 13,
   "metadata": {},
   "outputs": [],
   "source": [
    "Xtrain, Xtest, Ytrain, Ytest = train_test_split(mnist['data'], mnist['target'].astype(np.int8), train_size=0.8, stratify = mnist['target'])"
   ]
  },
  {
   "cell_type": "markdown",
   "metadata": {},
   "source": [
    "### 1. `MultinomialNB().partial_fit()`"
   ]
  },
  {
   "cell_type": "code",
   "execution_count": 14,
   "metadata": {},
   "outputs": [
    {
     "name": "stdout",
     "output_type": "stream",
     "text": [
      "0.8304285714285714\n",
      "0.8290714285714286\n",
      "0.8282142857142857\n",
      "0.8291428571428572\n",
      "0.8287857142857142\n",
      "0.8288571428571428\n",
      "0.829\n",
      "0.8292857142857143\n"
     ]
    }
   ],
   "source": [
    "clf_Mpf = MultinomialNB()\n",
    "for i in range(7) :\n",
    "    clf_Mpf.partial_fit(Xtrain[i : 10000*(i+1)], \n",
    "                        Ytrain[i : 10000*(i+1)], \n",
    "                        np.unique(Ytrain))\n",
    "    score_Mpf = clf_Mpf.score(Xtest, Ytest)\n",
    "    print(score_Mpf)\n",
    "\n",
    "clf_M = MultinomialNB()\n",
    "clf_M.fit(Xtrain, Ytrain)\n",
    "score_M = clf_M.score(Xtest, Ytest)\n",
    "print(score_M)"
   ]
  },
  {
   "cell_type": "markdown",
   "metadata": {},
   "source": [
    "*Visiblement, le score est plus petit au début qu'à la fin. Pourquoi ? J'ai lu à plusieurs reprises que les classifieurs de Bayes obtenaient de bons résultats même avec de petits jeux d'entraînement, mais pourquoi seraient-ils moins bons à mesure que l'entraînement s'intensifie ? À part ça, nous avons bien le même score après avoir entraîné tout le modèle en plusieurs fois que tout le modèle d'un coup.*"
   ]
  }
 ],
 "metadata": {
  "kernelspec": {
   "display_name": "Python 3",
   "language": "python",
   "name": "python3"
  },
  "language_info": {
   "codemirror_mode": {
    "name": "ipython",
    "version": 3
   },
   "file_extension": ".py",
   "mimetype": "text/x-python",
   "name": "python",
   "nbconvert_exporter": "python",
   "pygments_lexer": "ipython3",
   "version": "3.8.3"
  }
 },
 "nbformat": 4,
 "nbformat_minor": 4
}
