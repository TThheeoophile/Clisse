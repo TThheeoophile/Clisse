{
 "cells": [
  {
   "cell_type": "markdown",
   "metadata": {},
   "source": [
    "# Projet "
   ]
  },
  {
   "cell_type": "markdown",
   "metadata": {},
   "source": [
    "On s'intéresse à la base de données sur les livres d'Amazon. La base de donnée est composée de 550 livres vendu entre 2009 et 2019.\n",
    "\n",
    "On va suivre la démarche scientifiques suivantes : question -> hypothèse -> expérience/validation expérimentale -> Observations et Conclusions\n",
    "\n",
    "- Question : Quelles est la différence entre les livres de fiction et les livres qui ne sont pas de la fition ? \n",
    "\n",
    "- Hypothèse : On suppose que qu'il y a des différences entre les livres de fiction et les livres qui ne sont pas de fiction."
   ]
  },
  {
   "cell_type": "code",
   "execution_count": 1,
   "metadata": {},
   "outputs": [],
   "source": [
    "import pandas as pd\n",
    "import seaborn as sns\n",
    "import matplotlib.pyplot as plt\n",
    "import numpy as np"
   ]
  },
  {
   "cell_type": "code",
   "execution_count": 2,
   "metadata": {},
   "outputs": [],
   "source": [
    "df = pd.read_csv(\"C:/Users/Johanne/Documents/Cours Master/M2/Statistique en grande dimension/Fiche Célisse/Données/AP/bestsellers with categories.csv\")"
   ]
  },
  {
   "cell_type": "code",
   "execution_count": 3,
   "metadata": {},
   "outputs": [
    {
     "data": {
      "text/html": [
       "<div>\n",
       "<style scoped>\n",
       "    .dataframe tbody tr th:only-of-type {\n",
       "        vertical-align: middle;\n",
       "    }\n",
       "\n",
       "    .dataframe tbody tr th {\n",
       "        vertical-align: top;\n",
       "    }\n",
       "\n",
       "    .dataframe thead th {\n",
       "        text-align: right;\n",
       "    }\n",
       "</style>\n",
       "<table border=\"1\" class=\"dataframe\">\n",
       "  <thead>\n",
       "    <tr style=\"text-align: right;\">\n",
       "      <th></th>\n",
       "      <th>Name</th>\n",
       "      <th>Author</th>\n",
       "      <th>User Rating</th>\n",
       "      <th>Reviews</th>\n",
       "      <th>Price</th>\n",
       "      <th>Year</th>\n",
       "      <th>Genre</th>\n",
       "    </tr>\n",
       "  </thead>\n",
       "  <tbody>\n",
       "    <tr>\n",
       "      <th>0</th>\n",
       "      <td>10-Day Green Smoothie Cleanse</td>\n",
       "      <td>JJ Smith</td>\n",
       "      <td>4.7</td>\n",
       "      <td>17350</td>\n",
       "      <td>8</td>\n",
       "      <td>2016</td>\n",
       "      <td>Non Fiction</td>\n",
       "    </tr>\n",
       "    <tr>\n",
       "      <th>1</th>\n",
       "      <td>11/22/63: A Novel</td>\n",
       "      <td>Stephen King</td>\n",
       "      <td>4.6</td>\n",
       "      <td>2052</td>\n",
       "      <td>22</td>\n",
       "      <td>2011</td>\n",
       "      <td>Fiction</td>\n",
       "    </tr>\n",
       "    <tr>\n",
       "      <th>2</th>\n",
       "      <td>12 Rules for Life: An Antidote to Chaos</td>\n",
       "      <td>Jordan B. Peterson</td>\n",
       "      <td>4.7</td>\n",
       "      <td>18979</td>\n",
       "      <td>15</td>\n",
       "      <td>2018</td>\n",
       "      <td>Non Fiction</td>\n",
       "    </tr>\n",
       "    <tr>\n",
       "      <th>3</th>\n",
       "      <td>1984 (Signet Classics)</td>\n",
       "      <td>George Orwell</td>\n",
       "      <td>4.7</td>\n",
       "      <td>21424</td>\n",
       "      <td>6</td>\n",
       "      <td>2017</td>\n",
       "      <td>Fiction</td>\n",
       "    </tr>\n",
       "    <tr>\n",
       "      <th>4</th>\n",
       "      <td>5,000 Awesome Facts (About Everything!) (Natio...</td>\n",
       "      <td>National Geographic Kids</td>\n",
       "      <td>4.8</td>\n",
       "      <td>7665</td>\n",
       "      <td>12</td>\n",
       "      <td>2019</td>\n",
       "      <td>Non Fiction</td>\n",
       "    </tr>\n",
       "  </tbody>\n",
       "</table>\n",
       "</div>"
      ],
      "text/plain": [
       "                                                Name  \\\n",
       "0                      10-Day Green Smoothie Cleanse   \n",
       "1                                  11/22/63: A Novel   \n",
       "2            12 Rules for Life: An Antidote to Chaos   \n",
       "3                             1984 (Signet Classics)   \n",
       "4  5,000 Awesome Facts (About Everything!) (Natio...   \n",
       "\n",
       "                     Author  User Rating  Reviews  Price  Year        Genre  \n",
       "0                  JJ Smith          4.7    17350      8  2016  Non Fiction  \n",
       "1              Stephen King          4.6     2052     22  2011      Fiction  \n",
       "2        Jordan B. Peterson          4.7    18979     15  2018  Non Fiction  \n",
       "3             George Orwell          4.7    21424      6  2017      Fiction  \n",
       "4  National Geographic Kids          4.8     7665     12  2019  Non Fiction  "
      ]
     },
     "execution_count": 3,
     "metadata": {},
     "output_type": "execute_result"
    }
   ],
   "source": [
    "df.head()"
   ]
  },
  {
   "cell_type": "code",
   "execution_count": 4,
   "metadata": {},
   "outputs": [
    {
     "name": "stdout",
     "output_type": "stream",
     "text": [
      "<class 'pandas.core.frame.DataFrame'>\n",
      "RangeIndex: 550 entries, 0 to 549\n",
      "Data columns (total 7 columns):\n",
      "Name           550 non-null object\n",
      "Author         550 non-null object\n",
      "User Rating    550 non-null float64\n",
      "Reviews        550 non-null int64\n",
      "Price          550 non-null int64\n",
      "Year           550 non-null int64\n",
      "Genre          550 non-null object\n",
      "dtypes: float64(1), int64(3), object(3)\n",
      "memory usage: 30.2+ KB\n"
     ]
    }
   ],
   "source": [
    "df.info()"
   ]
  },
  {
   "cell_type": "code",
   "execution_count": 5,
   "metadata": {},
   "outputs": [
    {
     "data": {
      "text/plain": [
       "Index(['Name', 'Author', 'User Rating', 'Reviews', 'Price', 'Year', 'Genre'], dtype='object')"
      ]
     },
     "execution_count": 5,
     "metadata": {},
     "output_type": "execute_result"
    }
   ],
   "source": [
    "df.keys()"
   ]
  },
  {
   "cell_type": "markdown",
   "metadata": {},
   "source": [
    "Création de la variable Genre2, pour avoir la variable de Genre en numérique. On a des 0 pour les livres qui ne sont pas des fictions et des 1 pour les livres de fiction."
   ]
  },
  {
   "cell_type": "code",
   "execution_count": 6,
   "metadata": {},
   "outputs": [
    {
     "name": "stderr",
     "output_type": "stream",
     "text": [
      "C:\\Users\\Johanne\\Anaconda3\\lib\\site-packages\\ipykernel_launcher.py:6: SettingWithCopyWarning: \n",
      "A value is trying to be set on a copy of a slice from a DataFrame\n",
      "\n",
      "See the caveats in the documentation: http://pandas.pydata.org/pandas-docs/stable/indexing.html#indexing-view-versus-copy\n",
      "  \n",
      "C:\\Users\\Johanne\\Anaconda3\\lib\\site-packages\\ipykernel_launcher.py:4: SettingWithCopyWarning: \n",
      "A value is trying to be set on a copy of a slice from a DataFrame\n",
      "\n",
      "See the caveats in the documentation: http://pandas.pydata.org/pandas-docs/stable/indexing.html#indexing-view-versus-copy\n",
      "  after removing the cwd from sys.path.\n"
     ]
    }
   ],
   "source": [
    "df['Genre2']=0\n",
    "for i in range(len(df['Genre'])):\n",
    "    if df['Genre'][i] == \"Fiction\" :\n",
    "        df['Genre2'][i]= 1\n",
    "    else :\n",
    "        df['Genre2'][i]=0"
   ]
  },
  {
   "cell_type": "code",
   "execution_count": 7,
   "metadata": {},
   "outputs": [
    {
     "data": {
      "text/plain": [
       "Name           0\n",
       "Author         0\n",
       "User Rating    0\n",
       "Reviews        0\n",
       "Price          0\n",
       "Year           0\n",
       "Genre          0\n",
       "Genre2         0\n",
       "dtype: int64"
      ]
     },
     "execution_count": 7,
     "metadata": {},
     "output_type": "execute_result"
    }
   ],
   "source": [
    "#on vérifie s'il n'y pas des valeurs nulles dans notre dataframe.\n",
    "df.isnull().sum()"
   ]
  },
  {
   "cell_type": "markdown",
   "metadata": {},
   "source": [
    "On regarde les statistiques descriptives de la base initiale df."
   ]
  },
  {
   "cell_type": "code",
   "execution_count": 8,
   "metadata": {},
   "outputs": [
    {
     "data": {
      "text/html": [
       "<div>\n",
       "<style scoped>\n",
       "    .dataframe tbody tr th:only-of-type {\n",
       "        vertical-align: middle;\n",
       "    }\n",
       "\n",
       "    .dataframe tbody tr th {\n",
       "        vertical-align: top;\n",
       "    }\n",
       "\n",
       "    .dataframe thead th {\n",
       "        text-align: right;\n",
       "    }\n",
       "</style>\n",
       "<table border=\"1\" class=\"dataframe\">\n",
       "  <thead>\n",
       "    <tr style=\"text-align: right;\">\n",
       "      <th></th>\n",
       "      <th>User Rating</th>\n",
       "      <th>Reviews</th>\n",
       "      <th>Price</th>\n",
       "      <th>Year</th>\n",
       "      <th>Genre2</th>\n",
       "    </tr>\n",
       "  </thead>\n",
       "  <tbody>\n",
       "    <tr>\n",
       "      <th>count</th>\n",
       "      <td>550.000000</td>\n",
       "      <td>550.000000</td>\n",
       "      <td>550.000000</td>\n",
       "      <td>550.000000</td>\n",
       "      <td>550.000000</td>\n",
       "    </tr>\n",
       "    <tr>\n",
       "      <th>mean</th>\n",
       "      <td>4.618364</td>\n",
       "      <td>11953.281818</td>\n",
       "      <td>13.100000</td>\n",
       "      <td>2014.000000</td>\n",
       "      <td>0.436364</td>\n",
       "    </tr>\n",
       "    <tr>\n",
       "      <th>std</th>\n",
       "      <td>0.226980</td>\n",
       "      <td>11731.132017</td>\n",
       "      <td>10.842262</td>\n",
       "      <td>3.165156</td>\n",
       "      <td>0.496385</td>\n",
       "    </tr>\n",
       "    <tr>\n",
       "      <th>min</th>\n",
       "      <td>3.300000</td>\n",
       "      <td>37.000000</td>\n",
       "      <td>0.000000</td>\n",
       "      <td>2009.000000</td>\n",
       "      <td>0.000000</td>\n",
       "    </tr>\n",
       "    <tr>\n",
       "      <th>25%</th>\n",
       "      <td>4.500000</td>\n",
       "      <td>4058.000000</td>\n",
       "      <td>7.000000</td>\n",
       "      <td>2011.000000</td>\n",
       "      <td>0.000000</td>\n",
       "    </tr>\n",
       "    <tr>\n",
       "      <th>50%</th>\n",
       "      <td>4.700000</td>\n",
       "      <td>8580.000000</td>\n",
       "      <td>11.000000</td>\n",
       "      <td>2014.000000</td>\n",
       "      <td>0.000000</td>\n",
       "    </tr>\n",
       "    <tr>\n",
       "      <th>75%</th>\n",
       "      <td>4.800000</td>\n",
       "      <td>17253.250000</td>\n",
       "      <td>16.000000</td>\n",
       "      <td>2017.000000</td>\n",
       "      <td>1.000000</td>\n",
       "    </tr>\n",
       "    <tr>\n",
       "      <th>max</th>\n",
       "      <td>4.900000</td>\n",
       "      <td>87841.000000</td>\n",
       "      <td>105.000000</td>\n",
       "      <td>2019.000000</td>\n",
       "      <td>1.000000</td>\n",
       "    </tr>\n",
       "  </tbody>\n",
       "</table>\n",
       "</div>"
      ],
      "text/plain": [
       "       User Rating       Reviews       Price         Year      Genre2\n",
       "count   550.000000    550.000000  550.000000   550.000000  550.000000\n",
       "mean      4.618364  11953.281818   13.100000  2014.000000    0.436364\n",
       "std       0.226980  11731.132017   10.842262     3.165156    0.496385\n",
       "min       3.300000     37.000000    0.000000  2009.000000    0.000000\n",
       "25%       4.500000   4058.000000    7.000000  2011.000000    0.000000\n",
       "50%       4.700000   8580.000000   11.000000  2014.000000    0.000000\n",
       "75%       4.800000  17253.250000   16.000000  2017.000000    1.000000\n",
       "max       4.900000  87841.000000  105.000000  2019.000000    1.000000"
      ]
     },
     "execution_count": 8,
     "metadata": {},
     "output_type": "execute_result"
    }
   ],
   "source": [
    "df.describe()"
   ]
  },
  {
   "cell_type": "markdown",
   "metadata": {},
   "source": [
    "Création de deux tables : df_nonfiction et df_fiction."
   ]
  },
  {
   "cell_type": "code",
   "execution_count": 9,
   "metadata": {},
   "outputs": [],
   "source": [
    "df_nonfiction = df.copy()\n",
    "for i in range(len(df['Genre'])-1,-1,-1):\n",
    "    if df['Genre'][i] == \"Fiction\" :\n",
    "        df_nonfiction.drop([i],inplace=True)"
   ]
  },
  {
   "cell_type": "code",
   "execution_count": 10,
   "metadata": {},
   "outputs": [],
   "source": [
    "df_fiction = df.copy()\n",
    "for i in range(len(df['Genre'])-1,-1,-1):\n",
    "    if df['Genre'][i] == \"Non Fiction\" :\n",
    "        df_fiction.drop([i],inplace=True)"
   ]
  },
  {
   "cell_type": "markdown",
   "metadata": {},
   "source": [
    "On s'intéresse maintenant à la variable Genre."
   ]
  },
  {
   "cell_type": "code",
   "execution_count": 11,
   "metadata": {},
   "outputs": [
    {
     "data": {
      "text/plain": [
       "Non Fiction    310\n",
       "Fiction        240\n",
       "Name: Genre, dtype: int64"
      ]
     },
     "execution_count": 11,
     "metadata": {},
     "output_type": "execute_result"
    }
   ],
   "source": [
    "df['Genre'].value_counts()"
   ]
  },
  {
   "cell_type": "code",
   "execution_count": 12,
   "metadata": {},
   "outputs": [
    {
     "data": {
      "image/png": "[encoded data removed]",
      "text/plain": [
       "<Figure size 432x288 with 1 Axes>"
      ]
     },
     "metadata": {
      "needs_background": "light"
     },
     "output_type": "display_data"
    }
   ],
   "source": [
    "sns.countplot('Genre', data=df, palette='Set3')\n",
    "plt.show()"
   ]
  },
  {
   "cell_type": "code",
   "execution_count": 13,
   "metadata": {},
   "outputs": [
    {
     "data": {
      "text/html": [
       "<div>\n",
       "<style scoped>\n",
       "    .dataframe tbody tr th:only-of-type {\n",
       "        vertical-align: middle;\n",
       "    }\n",
       "\n",
       "    .dataframe tbody tr th {\n",
       "        vertical-align: top;\n",
       "    }\n",
       "\n",
       "    .dataframe thead th {\n",
       "        text-align: right;\n",
       "    }\n",
       "</style>\n",
       "<table border=\"1\" class=\"dataframe\">\n",
       "  <thead>\n",
       "    <tr style=\"text-align: right;\">\n",
       "      <th></th>\n",
       "      <th>Genre</th>\n",
       "      <th>Price</th>\n",
       "    </tr>\n",
       "  </thead>\n",
       "  <tbody>\n",
       "    <tr>\n",
       "      <th>0</th>\n",
       "      <td>Fiction</td>\n",
       "      <td>10.850000</td>\n",
       "    </tr>\n",
       "    <tr>\n",
       "      <th>1</th>\n",
       "      <td>Non Fiction</td>\n",
       "      <td>14.841935</td>\n",
       "    </tr>\n",
       "  </tbody>\n",
       "</table>\n",
       "</div>"
      ],
      "text/plain": [
       "         Genre      Price\n",
       "0      Fiction  10.850000\n",
       "1  Non Fiction  14.841935"
      ]
     },
     "execution_count": 13,
     "metadata": {},
     "output_type": "execute_result"
    }
   ],
   "source": [
    "df.groupby(['Genre'], as_index=False)['Price'].mean()"
   ]
  },
  {
   "cell_type": "code",
   "execution_count": 14,
   "metadata": {},
   "outputs": [
    {
     "data": {
      "text/plain": [
       "Genre\n",
       "Fiction        15683.791667\n",
       "Non Fiction     9065.145161\n",
       "Name: Reviews, dtype: float64"
      ]
     },
     "execution_count": 14,
     "metadata": {},
     "output_type": "execute_result"
    }
   ],
   "source": [
    "df.groupby(['Genre'])['Reviews'].mean()"
   ]
  },
  {
   "cell_type": "code",
   "execution_count": 15,
   "metadata": {},
   "outputs": [
    {
     "data": {
      "image/png": "[encoded data removed]",
      "text/plain": [
       "<Figure size 1440x720 with 4 Axes>"
      ]
     },
     "metadata": {
      "needs_background": "light"
     },
     "output_type": "display_data"
    },
    {
     "data": {
      "text/html": [
       "<div>\n",
       "<style scoped>\n",
       "    .dataframe tbody tr th:only-of-type {\n",
       "        vertical-align: middle;\n",
       "    }\n",
       "\n",
       "    .dataframe tbody tr th {\n",
       "        vertical-align: top;\n",
       "    }\n",
       "\n",
       "    .dataframe thead th {\n",
       "        text-align: right;\n",
       "    }\n",
       "</style>\n",
       "<table border=\"1\" class=\"dataframe\">\n",
       "  <thead>\n",
       "    <tr style=\"text-align: right;\">\n",
       "      <th></th>\n",
       "      <th>User Rating</th>\n",
       "      <th>User Rating Count</th>\n",
       "      <th>Reviews</th>\n",
       "      <th>Reviews Count</th>\n",
       "      <th>Price</th>\n",
       "      <th>Price Count</th>\n",
       "    </tr>\n",
       "  </thead>\n",
       "  <tbody>\n",
       "    <tr>\n",
       "      <th>0</th>\n",
       "      <td>(3.298, 3.46]</td>\n",
       "      <td>1</td>\n",
       "      <td>(-50.804, 8817.4]</td>\n",
       "      <td>287</td>\n",
       "      <td>(-0.105, 10.5]</td>\n",
       "      <td>266</td>\n",
       "    </tr>\n",
       "    <tr>\n",
       "      <th>1</th>\n",
       "      <td>(3.46, 3.62]</td>\n",
       "      <td>1</td>\n",
       "      <td>(8817.4, 17597.8]</td>\n",
       "      <td>131</td>\n",
       "      <td>(10.5, 21.0]</td>\n",
       "      <td>225</td>\n",
       "    </tr>\n",
       "    <tr>\n",
       "      <th>2</th>\n",
       "      <td>(3.62, 3.78]</td>\n",
       "      <td>0</td>\n",
       "      <td>(17597.8, 26378.2]</td>\n",
       "      <td>87</td>\n",
       "      <td>(21.0, 31.5]</td>\n",
       "      <td>33</td>\n",
       "    </tr>\n",
       "    <tr>\n",
       "      <th>3</th>\n",
       "      <td>(3.78, 3.94]</td>\n",
       "      <td>5</td>\n",
       "      <td>(26378.2, 35158.6]</td>\n",
       "      <td>25</td>\n",
       "      <td>(31.5, 42.0]</td>\n",
       "      <td>10</td>\n",
       "    </tr>\n",
       "    <tr>\n",
       "      <th>4</th>\n",
       "      <td>(3.94, 4.1]</td>\n",
       "      <td>20</td>\n",
       "      <td>(35158.6, 43939.0]</td>\n",
       "      <td>4</td>\n",
       "      <td>(42.0, 52.5]</td>\n",
       "      <td>11</td>\n",
       "    </tr>\n",
       "    <tr>\n",
       "      <th>5</th>\n",
       "      <td>(4.1, 4.26]</td>\n",
       "      <td>8</td>\n",
       "      <td>(43939.0, 52719.4]</td>\n",
       "      <td>8</td>\n",
       "      <td>(52.5, 63.0]</td>\n",
       "      <td>2</td>\n",
       "    </tr>\n",
       "    <tr>\n",
       "      <th>6</th>\n",
       "      <td>(4.26, 4.42]</td>\n",
       "      <td>63</td>\n",
       "      <td>(52719.4, 61499.8]</td>\n",
       "      <td>5</td>\n",
       "      <td>(63.0, 73.5]</td>\n",
       "      <td>0</td>\n",
       "    </tr>\n",
       "    <tr>\n",
       "      <th>7</th>\n",
       "      <td>(4.42, 4.58]</td>\n",
       "      <td>60</td>\n",
       "      <td>(61499.8, 70280.2]</td>\n",
       "      <td>0</td>\n",
       "      <td>(73.5, 84.0]</td>\n",
       "      <td>1</td>\n",
       "    </tr>\n",
       "    <tr>\n",
       "      <th>8</th>\n",
       "      <td>(4.58, 4.74]</td>\n",
       "      <td>213</td>\n",
       "      <td>(70280.2, 79060.6]</td>\n",
       "      <td>0</td>\n",
       "      <td>(84.0, 94.5]</td>\n",
       "      <td>0</td>\n",
       "    </tr>\n",
       "    <tr>\n",
       "      <th>9</th>\n",
       "      <td>(4.74, 4.9]</td>\n",
       "      <td>179</td>\n",
       "      <td>(79060.6, 87841.0]</td>\n",
       "      <td>3</td>\n",
       "      <td>(94.5, 105.0]</td>\n",
       "      <td>2</td>\n",
       "    </tr>\n",
       "  </tbody>\n",
       "</table>\n",
       "</div>"
      ],
      "text/plain": [
       "     User Rating  User Rating Count             Reviews  Reviews Count  \\\n",
       "0  (3.298, 3.46]                  1   (-50.804, 8817.4]            287   \n",
       "1   (3.46, 3.62]                  1   (8817.4, 17597.8]            131   \n",
       "2   (3.62, 3.78]                  0  (17597.8, 26378.2]             87   \n",
       "3   (3.78, 3.94]                  5  (26378.2, 35158.6]             25   \n",
       "4    (3.94, 4.1]                 20  (35158.6, 43939.0]              4   \n",
       "5    (4.1, 4.26]                  8  (43939.0, 52719.4]              8   \n",
       "6   (4.26, 4.42]                 63  (52719.4, 61499.8]              5   \n",
       "7   (4.42, 4.58]                 60  (61499.8, 70280.2]              0   \n",
       "8   (4.58, 4.74]                213  (70280.2, 79060.6]              0   \n",
       "9    (4.74, 4.9]                179  (79060.6, 87841.0]              3   \n",
       "\n",
       "            Price  Price Count  \n",
       "0  (-0.105, 10.5]          266  \n",
       "1    (10.5, 21.0]          225  \n",
       "2    (21.0, 31.5]           33  \n",
       "3    (31.5, 42.0]           10  \n",
       "4    (42.0, 52.5]           11  \n",
       "5    (52.5, 63.0]            2  \n",
       "6    (63.0, 73.5]            0  \n",
       "7    (73.5, 84.0]            1  \n",
       "8    (84.0, 94.5]            0  \n",
       "9   (94.5, 105.0]            2  "
      ]
     },
     "metadata": {},
     "output_type": "display_data"
    }
   ],
   "source": [
    "numbers = ['User Rating', 'Reviews', 'Price']\n",
    "df.loc[:,numbers].hist(color='salmon', figsize=(20,10), edgecolor='black', bins=10)\n",
    "plt.show()\n",
    "\n",
    "rating_binned = pd.cut(df['User Rating'], bins=10)\n",
    "rating_binned = pd.DataFrame(pd.DataFrame(rating_binned).groupby('User Rating').size(), columns=['User Rating Count']).reset_index()\n",
    "\n",
    "Reviews_binned = pd.cut(df['Reviews'], bins=10)\n",
    "Reviews_binned = pd.DataFrame(pd.DataFrame(Reviews_binned).groupby('Reviews').size(), columns=['Reviews Count']).reset_index()\n",
    "\n",
    "Price_binned = pd.cut(df['Price'], bins=10)\n",
    "Price_binned = pd.DataFrame(pd.DataFrame(Price_binned).groupby('Price').size(), columns=['Price Count']).reset_index()\n",
    "\n",
    "display(pd.concat([rating_binned, Reviews_binned, Price_binned], axis=1))"
   ]
  },
  {
   "cell_type": "code",
   "execution_count": 16,
   "metadata": {},
   "outputs": [
    {
     "data": {
      "image/png": "[encoded data removed]",
      "text/plain": [
       "<Figure size 1008x360 with 2 Axes>"
      ]
     },
     "metadata": {
      "needs_background": "light"
     },
     "output_type": "display_data"
    },
    {
     "data": {
      "text/html": [
       "<div>\n",
       "<style scoped>\n",
       "    .dataframe tbody tr th:only-of-type {\n",
       "        vertical-align: middle;\n",
       "    }\n",
       "\n",
       "    .dataframe tbody tr th {\n",
       "        vertical-align: top;\n",
       "    }\n",
       "\n",
       "    .dataframe thead th {\n",
       "        text-align: right;\n",
       "    }\n",
       "</style>\n",
       "<table border=\"1\" class=\"dataframe\">\n",
       "  <thead>\n",
       "    <tr style=\"text-align: right;\">\n",
       "      <th></th>\n",
       "      <th>User Rating</th>\n",
       "      <th>Rating Fiction</th>\n",
       "      <th>Rating Non Fiction</th>\n",
       "    </tr>\n",
       "    <tr>\n",
       "      <th>Year</th>\n",
       "      <th></th>\n",
       "      <th></th>\n",
       "      <th></th>\n",
       "    </tr>\n",
       "  </thead>\n",
       "  <tbody>\n",
       "    <tr>\n",
       "      <th>2009</th>\n",
       "      <td>4.584</td>\n",
       "      <td>4.592</td>\n",
       "      <td>4.577</td>\n",
       "    </tr>\n",
       "    <tr>\n",
       "      <th>2010</th>\n",
       "      <td>4.558</td>\n",
       "      <td>4.615</td>\n",
       "      <td>4.520</td>\n",
       "    </tr>\n",
       "    <tr>\n",
       "      <th>2011</th>\n",
       "      <td>4.558</td>\n",
       "      <td>4.619</td>\n",
       "      <td>4.514</td>\n",
       "    </tr>\n",
       "    <tr>\n",
       "      <th>2012</th>\n",
       "      <td>4.532</td>\n",
       "      <td>4.495</td>\n",
       "      <td>4.559</td>\n",
       "    </tr>\n",
       "    <tr>\n",
       "      <th>2013</th>\n",
       "      <td>4.554</td>\n",
       "      <td>4.546</td>\n",
       "      <td>4.562</td>\n",
       "    </tr>\n",
       "    <tr>\n",
       "      <th>2014</th>\n",
       "      <td>4.622</td>\n",
       "      <td>4.631</td>\n",
       "      <td>4.610</td>\n",
       "    </tr>\n",
       "    <tr>\n",
       "      <th>2015</th>\n",
       "      <td>4.648</td>\n",
       "      <td>4.653</td>\n",
       "      <td>4.645</td>\n",
       "    </tr>\n",
       "    <tr>\n",
       "      <th>2016</th>\n",
       "      <td>4.678</td>\n",
       "      <td>4.716</td>\n",
       "      <td>4.655</td>\n",
       "    </tr>\n",
       "    <tr>\n",
       "      <th>2017</th>\n",
       "      <td>4.660</td>\n",
       "      <td>4.737</td>\n",
       "      <td>4.588</td>\n",
       "    </tr>\n",
       "    <tr>\n",
       "      <th>2018</th>\n",
       "      <td>4.668</td>\n",
       "      <td>4.738</td>\n",
       "      <td>4.617</td>\n",
       "    </tr>\n",
       "    <tr>\n",
       "      <th>2019</th>\n",
       "      <td>4.740</td>\n",
       "      <td>4.820</td>\n",
       "      <td>4.687</td>\n",
       "    </tr>\n",
       "  </tbody>\n",
       "</table>\n",
       "</div>"
      ],
      "text/plain": [
       "      User Rating  Rating Fiction  Rating Non Fiction\n",
       "Year                                                 \n",
       "2009        4.584           4.592               4.577\n",
       "2010        4.558           4.615               4.520\n",
       "2011        4.558           4.619               4.514\n",
       "2012        4.532           4.495               4.559\n",
       "2013        4.554           4.546               4.562\n",
       "2014        4.622           4.631               4.610\n",
       "2015        4.648           4.653               4.645\n",
       "2016        4.678           4.716               4.655\n",
       "2017        4.660           4.737               4.588\n",
       "2018        4.668           4.738               4.617\n",
       "2019        4.740           4.820               4.687"
      ]
     },
     "metadata": {},
     "output_type": "display_data"
    }
   ],
   "source": [
    "fig, ax = plt.subplots(1,2, figsize=(14,5))\n",
    "\n",
    "rating = df.groupby('Year')['User Rating'].mean()\n",
    "rating = rating.reset_index()\n",
    "\n",
    "sns.lineplot(x='Year', y='User Rating', data=df, ci=None, markers=True, ax=ax[0])\n",
    "ax[0].set_xticks(ticks=df['Year'].value_counts(ascending=True).index)\n",
    "\n",
    "sns.lineplot(x='Year', y='User Rating', hue='Genre', data=df, ci=None, markers=True, ax=ax[1])\n",
    "ax[1].set_xticks(ticks=df['Year'].value_counts(ascending=True).index)\n",
    "\n",
    "plt.show()\n",
    "\n",
    "time = pd.DataFrame(df.groupby('Year')['User Rating'].mean())\n",
    "time_genre = pd.DataFrame(df.groupby(['Genre', 'Year'])['User Rating'].mean())\n",
    "\n",
    "time['Rating Fiction'] = list(np.around(time_genre.loc['Fiction'].reset_index()['User Rating'], 3))\n",
    "time['Rating Non Fiction'] = list(np.around(time_genre.loc['Non Fiction'].reset_index()['User Rating'], 3))\n",
    "display(time)"
   ]
  },
  {
   "cell_type": "code",
   "execution_count": 17,
   "metadata": {},
   "outputs": [
    {
     "data": {
      "image/png": "[encoded data removed]",
      "text/plain": [
       "<Figure size 1008x360 with 2 Axes>"
      ]
     },
     "metadata": {
      "needs_background": "light"
     },
     "output_type": "display_data"
    }
   ],
   "source": [
    "fig, ax = plt.subplots(1,2, figsize=(14,5))\n",
    "\n",
    "rating = df.groupby('Year')['Price'].mean()\n",
    "rating = rating.reset_index()\n",
    "\n",
    "sns.lineplot(x='Year', y='Price', data=df, ci=None, markers=True, ax=ax[0])\n",
    "ax[0].set_xticks(ticks=df['Year'].value_counts(ascending=True).index)\n",
    "\n",
    "sns.lineplot(x='Year', y='Price', hue='Genre', data=df, ci=None, markers=True, ax=ax[1])\n",
    "ax[1].set_xticks(ticks=df['Year'].value_counts(ascending=True).index)\n",
    "\n",
    "plt.show()"
   ]
  },
  {
   "cell_type": "code",
   "execution_count": 18,
   "metadata": {},
   "outputs": [
    {
     "data": {
      "image/png": "[encoded data removed]",
      "text/plain": [
       "<Figure size 1008x360 with 2 Axes>"
      ]
     },
     "metadata": {
      "needs_background": "light"
     },
     "output_type": "display_data"
    }
   ],
   "source": [
    "fig, ax = plt.subplots(1,2, figsize=(14,5))\n",
    "\n",
    "rating = df.groupby('Year')['Reviews'].mean()\n",
    "rating = rating.reset_index()\n",
    "\n",
    "sns.lineplot(x='Year', y='Reviews', data=df, ci=None, markers=True, ax=ax[0])\n",
    "ax[0].set_xticks(ticks=df['Year'].value_counts(ascending=True).index)\n",
    "\n",
    "sns.lineplot(x='Year', y='Reviews', hue='Genre', data=df, ci=None, markers=True, ax=ax[1])\n",
    "ax[1].set_xticks(ticks=df['Year'].value_counts(ascending=True).index)\n",
    "\n",
    "plt.show()"
   ]
  },
  {
   "cell_type": "markdown",
   "metadata": {},
   "source": [
    "Voici, la matrice de corrélation de la dataframe."
   ]
  },
  {
   "cell_type": "code",
   "execution_count": 19,
   "metadata": {},
   "outputs": [
    {
     "data": {
      "image/png": "[encoded data removed]",
      "text/plain": [
       "<Figure size 432x288 with 2 Axes>"
      ]
     },
     "metadata": {
      "needs_background": "light"
     },
     "output_type": "display_data"
    }
   ],
   "source": [
    "matrice_corr = df.corr().round(2) #on utilise round(2) pour avoir deux décimales après la virgule\n",
    "sns.heatmap(data=(matrice_corr*100).astype(int), \n",
    "            #on multiple par 100 pour abtenir des corrélations en pourcentage, pour plus de simplicité\n",
    "            annot=True, #on affiche les valeurs des corrélations dans la matrice de corrélation\n",
    "            fmt='d', #permet d'éviter un affichage de certaines valeurs avec des exponentielles \n",
    "            cmap='Oranges'); #couleur de la matrice de corrélation"
   ]
  },
  {
   "cell_type": "markdown",
   "metadata": {},
   "source": [
    "Nous regardons maintenant la PCA."
   ]
  },
  {
   "cell_type": "code",
   "execution_count": 20,
   "metadata": {},
   "outputs": [
    {
     "data": {
      "image/png": "[encoded data removed]",
      "text/plain": [
       "<Figure size 432x288 with 1 Axes>"
      ]
     },
     "metadata": {},
     "output_type": "display_data"
    }
   ],
   "source": [
    "import matplotlib.pyplot as plt\n",
    "from mpl_toolkits.mplot3d import Axes3D\n",
    "from sklearn import datasets\n",
    "from sklearn.decomposition import PCA\n",
    "\n",
    "X = df[['Reviews','Price']].values \n",
    "y = df['Genre2'].values\n",
    "\n",
    "x0_min, x0_max = X[:, 0].min(), X[:, 0].max()\n",
    "x1_min, x1_max = X[:, 1].min(), X[:, 1].max()\n",
    "\n",
    "plt.figure()\n",
    "plt.clf()\n",
    "\n",
    "plt.scatter(X[:, 0], X[:, 1], c=y, edgecolor='k')\n",
    "\n",
    "plt.xlabel('Reviews et Price')\n",
    "plt.ylabel('Genre')\n",
    "\n",
    "plt.xticks(())\n",
    "plt.yticks(())\n",
    "plt.show()"
   ]
  },
  {
   "cell_type": "code",
   "execution_count": 21,
   "metadata": {},
   "outputs": [
    {
     "data": {
      "image/png": "[encoded data removed]",
      "text/plain": [
       "<Figure size 576x432 with 1 Axes>"
      ]
     },
     "metadata": {
      "needs_background": "light"
     },
     "output_type": "display_data"
    }
   ],
   "source": [
    "#On fait le graphique en 3D\n",
    "\n",
    "fig = plt.figure(1, figsize=(8, 6))\n",
    "ax = Axes3D(fig, elev=-150, azim=100)\n",
    "X = df[['Reviews','Price','User Rating']].values \n",
    "X = X - X.mean(0)\n",
    "ax.scatter(X[:,2],X[:, 1], X[:, 0], c=y, edgecolor='k', s=100)\n",
    "ax.set_title(\"First three canonical directions\")\n",
    "ax.set_xlabel(\"1st canonical vector\")\n",
    "ax.w_xaxis.set_ticklabels([])\n",
    "ax.set_ylabel(\"2nd canonical vector\")\n",
    "ax.w_yaxis.set_ticklabels([])\n",
    "ax.set_zlabel(\"3rd canonical vector\")\n",
    "ax.w_zaxis.set_ticklabels([])\n",
    "\n",
    "plt.show()"
   ]
  },
  {
   "cell_type": "markdown",
   "metadata": {},
   "source": [
    "### Regression logistique"
   ]
  },
  {
   "cell_type": "markdown",
   "metadata": {},
   "source": [
    "Nous allons faire plusieurs régressions logistiques. "
   ]
  },
  {
   "cell_type": "code",
   "execution_count": 22,
   "metadata": {},
   "outputs": [],
   "source": [
    "from sklearn.model_selection import train_test_split\n",
    "from sklearn.linear_model import LogisticRegression\n",
    "from sklearn import metrics\n",
    "import matplotlib.pyplot as plt\n",
    "from sklearn import linear_model\n",
    "from sklearn.metrics import mean_squared_error\n",
    "from sklearn.model_selection import cross_validate\n",
    "from sklearn.metrics import mean_squared_error\n",
    "from sklearn.neighbors import KernelDensity"
   ]
  },
  {
   "cell_type": "code",
   "execution_count": 26,
   "metadata": {},
   "outputs": [],
   "source": [
    "# On détermine les variables explicatives qui compose le X et la variable expliquée Y\n",
    "# Cette régression logistique permet de tester le Genre en fonction des note, du nombre de vus, du prix et de l'année\n",
    "X = df[['User Rating', 'Reviews','Price','Year']]\n",
    "y = df['Genre']"
   ]
  },
  {
   "cell_type": "code",
   "execution_count": 27,
   "metadata": {},
   "outputs": [],
   "source": [
    "# On choisit que 25% du dataframe sera pour le modele testé et 75% pour le training\n",
    "X_train,X_test,y_train,y_test = train_test_split(X,y,test_size=0.25,random_state=0)"
   ]
  },
  {
   "cell_type": "code",
   "execution_count": 28,
   "metadata": {},
   "outputs": [
    {
     "name": "stderr",
     "output_type": "stream",
     "text": [
      "C:\\Users\\Johanne\\Anaconda3\\lib\\site-packages\\sklearn\\linear_model\\logistic.py:432: FutureWarning: Default solver will be changed to 'lbfgs' in 0.22. Specify a solver to silence this warning.\n",
      "  FutureWarning)\n"
     ]
    }
   ],
   "source": [
    "logistic_regression= LogisticRegression()\n",
    "logistic_regression.fit(X_train,y_train)\n",
    "y_pred=logistic_regression.predict(X_test)"
   ]
  },
  {
   "cell_type": "code",
   "execution_count": 29,
   "metadata": {},
   "outputs": [
    {
     "data": {
      "text/plain": [
       "<matplotlib.axes._subplots.AxesSubplot at 0x15aaabc8b38>"
      ]
     },
     "execution_count": 29,
     "metadata": {},
     "output_type": "execute_result"
    },
    {
     "data": {
      "image/png": "[encoded data removed]",
      "text/plain": [
       "<Figure size 432x288 with 2 Axes>"
      ]
     },
     "metadata": {
      "needs_background": "light"
     },
     "output_type": "display_data"
    }
   ],
   "source": [
    "#Matrice de confusion\n",
    "confusion_matrix = pd.crosstab(y_test, y_pred, rownames=['Actual'], colnames=['Predicted'])\n",
    "sns.heatmap(confusion_matrix, annot=True)"
   ]
  },
  {
   "cell_type": "code",
   "execution_count": 30,
   "metadata": {},
   "outputs": [
    {
     "name": "stdout",
     "output_type": "stream",
     "text": [
      "Accuracy:  0.6521739130434783\n"
     ]
    }
   ],
   "source": [
    "# Calcul de l'accuracy\n",
    "print('Accuracy: ',metrics.accuracy_score(y_test, y_pred))\n",
    "plt.show()"
   ]
  },
  {
   "cell_type": "code",
   "execution_count": 31,
   "metadata": {},
   "outputs": [],
   "source": [
    "# On teste le modèle pour des valeurs choisies. Ici, on applique sur 5 livres qu'on a choisit dans la base de données. \n",
    "new = {'User Rating': [4.6,4.6,4.5,3.3,4.9],\n",
    "                  'Reviews': [23848,2137,8491,9372,5956],\n",
    "                  'Price': [8,17,7,12,11],\n",
    "                  'Year': [2016,2010,2014,2012,2019]\n",
    "            }\n",
    "\n",
    "df2 = pd.DataFrame(new,columns= ['User Rating', 'Reviews','Price','Year'])"
   ]
  },
  {
   "cell_type": "markdown",
   "metadata": {},
   "source": [
    "On choisit les livres suivants pour tester le modèle : \n",
    "- A Man Called Ove: A Novel, par Fredrik Backman  --> Fiction\n",
    "- Decision Points, par George W. Bush --> Non Fiction \n",
    "- Looking for Alaska, par John Green --> Fiction\n",
    "- The Casual Vacancy, par J.K. Rowling --> Fiction \n",
    "- Unfreedom of the Press, par Mark R. Levin --> Non Fiction"
   ]
  },
  {
   "cell_type": "code",
   "execution_count": 36,
   "metadata": {},
   "outputs": [
    {
     "name": "stdout",
     "output_type": "stream",
     "text": [
      "   User Rating  Reviews  Price  Year\n",
      "0          4.6    23848      8  2016\n",
      "1          4.6     2137     17  2010\n",
      "2          4.5     8491      7  2014\n",
      "3          3.3     9372     12  2012\n",
      "4          4.9     5956     11  2019\n",
      "Voici les prédictions de notre régression :\n",
      "['Fiction' 'Non Fiction' 'Non Fiction' 'Non Fiction' 'Non Fiction']\n"
     ]
    }
   ],
   "source": [
    "y_pred=logistic_regression.predict(df2)\n",
    "print (df2)\n",
    "print(\"Voici les prédictions de notre régression :\")\n",
    "print (y_pred)"
   ]
  },
  {
   "cell_type": "code",
   "execution_count": 37,
   "metadata": {},
   "outputs": [
    {
     "name": "stdout",
     "output_type": "stream",
     "text": [
      "(440, 3)\n",
      "(110, 3)\n",
      "(440,)\n",
      "(110,)\n"
     ]
    }
   ],
   "source": [
    "X=pd.DataFrame(np.c_[df['User Rating'],df['Reviews'],df['Price']], columns = ['User Rating','Reviews','Price'])\n",
    "Y = df['Genre2']\n",
    " \n",
    "X_train, X_test, Y_train, Y_test = train_test_split(X, Y, test_size = 0.2, random_state=5)\n",
    "print(X_train.shape)\n",
    "print(X_test.shape)\n",
    "print(Y_train.shape)\n",
    "print(Y_test.shape)"
   ]
  },
  {
   "cell_type": "code",
   "execution_count": 38,
   "metadata": {},
   "outputs": [
    {
     "data": {
      "text/plain": [
       "LinearRegression(copy_X=True, fit_intercept=True, n_jobs=None, normalize=False)"
      ]
     },
     "execution_count": 38,
     "metadata": {},
     "output_type": "execute_result"
    }
   ],
   "source": [
    "# On entraîne le modèle\n",
    "from sklearn.linear_model import LinearRegression\n",
    "from sklearn.metrics import mean_squared_error\n",
    " \n",
    "lmodellineaire = LinearRegression()\n",
    "lmodellineaire.fit(X_train, Y_train)"
   ]
  },
  {
   "cell_type": "code",
   "execution_count": 39,
   "metadata": {},
   "outputs": [
    {
     "name": "stdout",
     "output_type": "stream",
     "text": [
      "La performance du modèle sur la base dapprentissage\n",
      "--------------------------------------\n",
      "Lerreur quadratique moyenne est 0.4673076926274922\n",
      "Le score R2 est 0.11313615304068203\n",
      "\n",
      "\n",
      "La performance du modèle sur la base de test\n",
      "--------------------------------------\n",
      "Lerreur quadratique moyenne est 0.46943056247654197\n",
      "Le score R2 est 0.0994876254160032\n"
     ]
    }
   ],
   "source": [
    "# On évalue le modèle d'entrainement\n",
    "from sklearn.metrics import r2_score\n",
    "y_train_predict = lmodellineaire.predict(X_train)\n",
    "rmse = (np.sqrt(mean_squared_error(Y_train, y_train_predict)))\n",
    "r2 = r2_score(Y_train, y_train_predict)\n",
    " \n",
    "print('La performance du modèle sur la base dapprentissage')\n",
    "print('--------------------------------------')\n",
    "print('Lerreur quadratique moyenne est {}'.format(rmse))\n",
    "print('Le score R2 est {}'.format(r2))\n",
    "print('\\n')\n",
    " \n",
    "# On évalue le modèle de test\n",
    "y_test_predict = lmodellineaire.predict(X_test)\n",
    "rmse = (np.sqrt(mean_squared_error(Y_test, y_test_predict)))\n",
    "r2 = r2_score(Y_test, y_test_predict)\n",
    " \n",
    "print('La performance du modèle sur la base de test')\n",
    "print('--------------------------------------')\n",
    "print('Lerreur quadratique moyenne est {}'.format(rmse))\n",
    "print('Le score R2 est {}'.format(r2))"
   ]
  },
  {
   "cell_type": "code",
   "execution_count": 40,
   "metadata": {},
   "outputs": [
    {
     "data": {
      "text/plain": [
       "LinearRegression(copy_X=True, fit_intercept=True, n_jobs=None, normalize=False)"
      ]
     },
     "execution_count": 40,
     "metadata": {},
     "output_type": "execute_result"
    }
   ],
   "source": [
    "# On créer une régression linéaire\n",
    "regr = linear_model.LinearRegression()\n",
    "\n",
    "# On entraine le modèle sur le jeu d'entrainement\n",
    "regr.fit(X_train, Y_train)"
   ]
  },
  {
   "cell_type": "code",
   "execution_count": 41,
   "metadata": {},
   "outputs": [],
   "source": [
    "# On estime les valeurs sur les mêmes points du jeu d'entrainement \n",
    "y_opti = regr.predict(X_train)"
   ]
  },
  {
   "cell_type": "code",
   "execution_count": 42,
   "metadata": {},
   "outputs": [],
   "source": [
    "# On fait des prédictions sur le jeu de données test\n",
    "y_pred = regr.predict(X_test)"
   ]
  },
  {
   "cell_type": "code",
   "execution_count": 43,
   "metadata": {},
   "outputs": [
    {
     "name": "stdout",
     "output_type": "stream",
     "text": [
      "Mean squared error: 0.22\n"
     ]
    }
   ],
   "source": [
    "# On calcul la MSE sur notre y_opti\n",
    "MSE_optim = mean_squared_error(Y_train, y_opti)\n",
    "print('Mean squared error: %.2f'\n",
    "      % MSE_optim)"
   ]
  },
  {
   "cell_type": "code",
   "execution_count": 44,
   "metadata": {},
   "outputs": [
    {
     "name": "stdout",
     "output_type": "stream",
     "text": [
      "Mean squared error: 0.22\n"
     ]
    }
   ],
   "source": [
    "# On calcul la MSE sur nos valeurs prédites\n",
    "MSE_pred = mean_squared_error(Y_test, y_pred)\n",
    "print('Mean squared error: %.2f'\n",
    "      % MSE_pred)"
   ]
  },
  {
   "cell_type": "markdown",
   "metadata": {},
   "source": [
    "On regarde la PCA pour cette régression logistique."
   ]
  },
  {
   "cell_type": "code",
   "execution_count": 45,
   "metadata": {},
   "outputs": [],
   "source": [
    "import matplotlib\n",
    "import matplotlib.pyplot as plt\n",
    "from sklearn.decomposition import PCA"
   ]
  },
  {
   "cell_type": "code",
   "execution_count": 46,
   "metadata": {},
   "outputs": [],
   "source": [
    "# On centre et réduit les données de X\n",
    "dat = X-np.mean(X,axis=0)\n",
    "\n",
    "# On définie la fonction PCA\n",
    "pca = PCA(n_components=3)\n",
    "\n",
    "# On applique la PCA sur les données\n",
    "pca.fit(dat)\n",
    "dat_new = pca.transform(dat)"
   ]
  },
  {
   "cell_type": "code",
   "execution_count": 47,
   "metadata": {},
   "outputs": [
    {
     "data": {
      "image/png": "[encoded data removed]",
      "text/plain": [
       "<Figure size 432x288 with 1 Axes>"
      ]
     },
     "metadata": {
      "needs_background": "light"
     },
     "output_type": "display_data"
    }
   ],
   "source": [
    "eigenvalues = pca.singular_values_**2\n",
    "plt.plot(pca.explained_variance_ratio_,linewidth=3,c='blue',label='Var explained')\n",
    "plt.plot(eigenvalues/np.sum(eigenvalues),'--',c='red',linewidth=3,label='Eigenvalues')\n",
    "plt.xlabel('Nb of components')\n",
    "plt.ylabel('Nb of components')\n",
    "plt.legend()\n",
    "plt.show()"
   ]
  },
  {
   "cell_type": "code",
   "execution_count": 48,
   "metadata": {},
   "outputs": [
    {
     "data": {
      "image/png": "[encoded data removed]",
      "text/plain": [
       "<Figure size 432x288 with 1 Axes>"
      ]
     },
     "metadata": {
      "needs_background": "light"
     },
     "output_type": "display_data"
    }
   ],
   "source": [
    "plt.scatter(dat_new[:,1],dat_new[:,2],linewidth=3,c='blue',label='Var explained')\n",
    "plt.show()"
   ]
  },
  {
   "cell_type": "markdown",
   "metadata": {},
   "source": [
    "On fait maintenant une régression logistique pour déterminer le nombre de vues en fonction de la note, du genre, du prix et de l'année. "
   ]
  },
  {
   "cell_type": "code",
   "execution_count": 49,
   "metadata": {},
   "outputs": [],
   "source": [
    "X = df[['User Rating', 'Genre2','Price','Year']]\n",
    "y = df['Reviews']"
   ]
  },
  {
   "cell_type": "code",
   "execution_count": 50,
   "metadata": {},
   "outputs": [],
   "source": [
    "# On découpe le jeu de données en deux parties : 25% du dataframe pour le modele testé et 75% pour le training\n",
    "X_train,X_test,y_train,y_test = train_test_split(X,y,test_size=0.25,random_state=0)"
   ]
  },
  {
   "cell_type": "code",
   "execution_count": 51,
   "metadata": {},
   "outputs": [
    {
     "name": "stderr",
     "output_type": "stream",
     "text": [
      "C:\\Users\\Johanne\\Anaconda3\\lib\\site-packages\\sklearn\\linear_model\\logistic.py:432: FutureWarning: Default solver will be changed to 'lbfgs' in 0.22. Specify a solver to silence this warning.\n",
      "  FutureWarning)\n",
      "C:\\Users\\Johanne\\Anaconda3\\lib\\site-packages\\sklearn\\linear_model\\logistic.py:469: FutureWarning: Default multi_class will be changed to 'auto' in 0.22. Specify the multi_class option to silence this warning.\n",
      "  \"this warning.\", FutureWarning)\n"
     ]
    }
   ],
   "source": [
    "logistic_regression= LogisticRegression()\n",
    "logistic_regression.fit(X_train,y_train)\n",
    "y_pred = logistic_regression.predict(X_test)"
   ]
  },
  {
   "cell_type": "code",
   "execution_count": 52,
   "metadata": {},
   "outputs": [
    {
     "name": "stdout",
     "output_type": "stream",
     "text": [
      "Accuracy:  0.09420289855072464\n"
     ]
    }
   ],
   "source": [
    "# On calcul l'accuracy\n",
    "print('Accuracy: ',metrics.accuracy_score(y_test, y_pred))\n",
    "plt.show()"
   ]
  },
  {
   "cell_type": "code",
   "execution_count": 53,
   "metadata": {},
   "outputs": [],
   "source": [
    "# On teste le modele pour des valeurs choisies \n",
    "new = {'User Rating': [4.8,4.3,4.8,4.4,4.8],\n",
    "                  'Genre2': [0,0,1,1,0],\n",
    "                  'Price': [13,7,8,2,12],\n",
    "                  'Year': [2009,2017,2011,2009,2019]\n",
    "            }\n",
    "\n",
    "df2 = pd.DataFrame(new,columns= ['User Rating', 'Genre2','Price','Year'])"
   ]
  },
  {
   "cell_type": "markdown",
   "metadata": {},
   "source": [
    "On choisit les livres suivants pour tester le modèle :\n",
    "\n",
    "- The Love Dare, par Stephen Kendrick --> 1655\n",
    "- The Instant Pot Electric Pressure Cooker Cookbook: Easy Recipes for Fast & Healthy Meals, par Laurel Randolph --> 7368\n",
    "- The Help, par Kathryn Stockett --> 13871\n",
    "- The Girl with the Dragon Tattoo (Millennium Series), par Stieg Larsson --> 10559\n",
    "- The Body Keeps the Score: Brain, Mind, and Body in the Healing of Trauma, par Bessel van der Kolk M.D. --> 12361"
   ]
  },
  {
   "cell_type": "code",
   "execution_count": 54,
   "metadata": {},
   "outputs": [
    {
     "name": "stdout",
     "output_type": "stream",
     "text": [
      "   User Rating  Genre2  Price  Year\n",
      "0          4.8       0     13  2009\n",
      "1          4.3       0      7  2017\n",
      "2          4.8       1      8  2011\n",
      "3          4.4       1      2  2009\n",
      "4          4.8       0     12  2019\n",
      "Voici les prédictions de notre régression :\n",
      "[25001  5069 21834 14038 25001]\n"
     ]
    }
   ],
   "source": [
    "# On prédit les données\n",
    "y_pred=logistic_regression.predict(df2)\n",
    "print (df2)\n",
    "print(\"Voici les prédictions de notre régression :\")\n",
    "print (y_pred)"
   ]
  },
  {
   "cell_type": "code",
   "execution_count": 55,
   "metadata": {},
   "outputs": [
    {
     "name": "stdout",
     "output_type": "stream",
     "text": [
      "(440, 3)\n",
      "(110, 3)\n",
      "(440,)\n",
      "(110,)\n"
     ]
    }
   ],
   "source": [
    "# On fait une régression du nombres de vues sur les notes, le genre et le prix des livres\n",
    "X=pd.DataFrame(np.c_[df['User Rating'],df['Genre2'],df['Price']], columns = ['User Rating','Genre2','Price'])\n",
    "Y = df['Reviews']\n",
    " \n",
    "X_train, X_test, Y_train, Y_test = train_test_split(X, Y, test_size = 0.2, random_state=5)\n",
    "print(X_train.shape)\n",
    "print(X_test.shape)\n",
    "print(Y_train.shape)\n",
    "print(Y_test.shape)"
   ]
  },
  {
   "cell_type": "code",
   "execution_count": 56,
   "metadata": {},
   "outputs": [
    {
     "data": {
      "text/plain": [
       "LinearRegression(copy_X=True, fit_intercept=True, n_jobs=None, normalize=False)"
      ]
     },
     "execution_count": 56,
     "metadata": {},
     "output_type": "execute_result"
    }
   ],
   "source": [
    "# On entraine le modèle\n",
    "from sklearn.linear_model import LinearRegression\n",
    "from sklearn.metrics import mean_squared_error\n",
    " \n",
    "lmodellineaire = LinearRegression()\n",
    "lmodellineaire.fit(X_train, Y_train)"
   ]
  },
  {
   "cell_type": "code",
   "execution_count": 57,
   "metadata": {},
   "outputs": [
    {
     "name": "stdout",
     "output_type": "stream",
     "text": [
      "La performance du modèle sur la base dapprentissage\n",
      "--------------------------------------\n",
      "L erreur quadratique moyenne est 11294.095933730447\n",
      "Le score R2 est 0.08029815723701828\n",
      "\n",
      "\n",
      "La performance du modèle sur la base de test\n",
      "--------------------------------------\n",
      "Lerreur quadratique moyenne est 10932.745461485176\n",
      "Le score R2 est 0.0934308303886241\n"
     ]
    }
   ],
   "source": [
    "# On évalue le modèle sur le jeu de données d'entrainement\n",
    "from sklearn.metrics import r2_score\n",
    "y_train_predict = lmodellineaire.predict(X_train)\n",
    "rmse = (np.sqrt(mean_squared_error(Y_train, y_train_predict)))\n",
    "r2 = r2_score(Y_train, y_train_predict)\n",
    " \n",
    "print('La performance du modèle sur la base dapprentissage')\n",
    "print('--------------------------------------')\n",
    "print('L erreur quadratique moyenne est {}'.format(rmse))\n",
    "print('Le score R2 est {}'.format(r2))\n",
    "print('\\n')\n",
    " \n",
    "# model evaluation for testing set\n",
    "y_test_predict = lmodellineaire.predict(X_test)\n",
    "rmse = (np.sqrt(mean_squared_error(Y_test, y_test_predict)))\n",
    "r2 = r2_score(Y_test, y_test_predict)\n",
    " \n",
    "print('La performance du modèle sur la base de test')\n",
    "print('--------------------------------------')\n",
    "print('Lerreur quadratique moyenne est {}'.format(rmse))\n",
    "print('Le score R2 est {}'.format(r2))"
   ]
  },
  {
   "cell_type": "code",
   "execution_count": 58,
   "metadata": {},
   "outputs": [
    {
     "data": {
      "text/plain": [
       "LinearRegression(copy_X=True, fit_intercept=True, n_jobs=None, normalize=False)"
      ]
     },
     "execution_count": 58,
     "metadata": {},
     "output_type": "execute_result"
    }
   ],
   "source": [
    "# On fait une régression linéaire\n",
    "regr = linear_model.LinearRegression()\n",
    "\n",
    "# On entraine le modèle sur le jeu d'entrainement\n",
    "regr.fit(X_train, Y_train)"
   ]
  },
  {
   "cell_type": "code",
   "execution_count": 59,
   "metadata": {},
   "outputs": [
    {
     "data": {
      "image/png": "[encoded data removed]",
      "text/plain": [
       "<Figure size 432x288 with 1 Axes>"
      ]
     },
     "metadata": {
      "needs_background": "light"
     },
     "output_type": "display_data"
    }
   ],
   "source": [
    "# On estime les valeurs du jeu d'entrainement \n",
    "y_opti = regr.predict(X_train)\n",
    "\n",
    "plt.scatter(y_opti, Y_train,  color='black')\n",
    "plt.show()"
   ]
  },
  {
   "cell_type": "code",
   "execution_count": 60,
   "metadata": {},
   "outputs": [
    {
     "data": {
      "image/png": "[encoded data removed]",
      "text/plain": [
       "<Figure size 432x288 with 1 Axes>"
      ]
     },
     "metadata": {
      "needs_background": "light"
     },
     "output_type": "display_data"
    }
   ],
   "source": [
    "# On fait les prédictions sur sur la partie test de la dataframe\n",
    "y_pred = regr.predict(X_test)\n",
    "\n",
    "plt.scatter(Y_test, y_pred,  color='black')\n",
    "plt.show()"
   ]
  },
  {
   "cell_type": "code",
   "execution_count": 61,
   "metadata": {},
   "outputs": [
    {
     "name": "stdout",
     "output_type": "stream",
     "text": [
      "Mean squared error: 127556602.96\n"
     ]
    }
   ],
   "source": [
    "# On calcul la MSE sur y_opti\n",
    "MSE_optim = mean_squared_error(Y_train, y_opti)\n",
    "print('Mean squared error: %.2f'\n",
    "      % MSE_optim)"
   ]
  },
  {
   "cell_type": "code",
   "execution_count": 62,
   "metadata": {},
   "outputs": [
    {
     "name": "stdout",
     "output_type": "stream",
     "text": [
      "Mean squared error: 119524923.33\n"
     ]
    }
   ],
   "source": [
    "# On calcul le MSE sur les données prédites\n",
    "MSE_pred = mean_squared_error(Y_test, y_pred)\n",
    "print('Mean squared error: %.2f'\n",
    "      % MSE_pred)"
   ]
  },
  {
   "cell_type": "code",
   "execution_count": 63,
   "metadata": {},
   "outputs": [
    {
     "name": "stdout",
     "output_type": "stream",
     "text": [
      "275 275\n"
     ]
    }
   ],
   "source": [
    "X_train, X_test, Y_train, Y_test = train_test_split(X, Y, test_size=0.5, random_state=3)\n",
    "print(len(X_train),len(X_test))"
   ]
  },
  {
   "cell_type": "code",
   "execution_count": 64,
   "metadata": {},
   "outputs": [],
   "source": [
    "# On créer un régression linéaire\n",
    "reg = linear_model.LinearRegression()"
   ]
  },
  {
   "cell_type": "code",
   "execution_count": 65,
   "metadata": {},
   "outputs": [],
   "source": [
    "MSE = np.ones((3,1))*10**25\n",
    "for dd in range(2,1,-1):\n",
    "    X_train = X_train.iloc[:, 1:dd]\n",
    "    X_test = X_test.iloc[:, 1:dd]\n",
    "    \n",
    "    reg.fit(X_train, Y_train)\n",
    "    pred_test = reg.predict(X_test)\n",
    "    MSE[dd] = mean_squared_error(Y_test, pred_test)"
   ]
  },
  {
   "cell_type": "code",
   "execution_count": 66,
   "metadata": {},
   "outputs": [
    {
     "data": {
      "image/png": "[encoded data removed]",
      "text/plain": [
       "<Figure size 432x288 with 1 Axes>"
      ]
     },
     "metadata": {
      "needs_background": "light"
     },
     "output_type": "display_data"
    }
   ],
   "source": [
    "plt.plot(range(0,3), MSE[0:], color='red', linewidth=3)\n",
    "plt.title('Error of the estimators')\n",
    "plt.ylabel('MSE')\n",
    "plt.xlabel('Dimension')\n",
    "plt.show()"
   ]
  },
  {
   "cell_type": "code",
   "execution_count": 67,
   "metadata": {},
   "outputs": [
    {
     "data": {
      "image/png": "[encoded data removed]",
      "text/plain": [
       "<Figure size 432x288 with 1 Axes>"
      ]
     },
     "metadata": {
      "needs_background": "light"
     },
     "output_type": "display_data"
    }
   ],
   "source": [
    "plt.plot(range(1,3), MSE[1:], color='red', linewidth=3)\n",
    "plt.title('Error of the estimators')\n",
    "plt.ylabel('MSE')\n",
    "plt.xlabel('Dimension')\n",
    "plt.show()"
   ]
  },
  {
   "cell_type": "markdown",
   "metadata": {},
   "source": [
    "On sépare la table des livres en deux tables différentes : df_nonfiction et df_fiction\n",
    "Ainsi on peut étudier les  livres de fiction d'une part et les livres qui ne sont pas de la fiction d'autre part."
   ]
  },
  {
   "cell_type": "markdown",
   "metadata": {},
   "source": [
    "On s'intéresse dans un premier temps, à la base de données comprenant tous les livres qui ne sont pas des fictions."
   ]
  },
  {
   "cell_type": "code",
   "execution_count": 68,
   "metadata": {},
   "outputs": [
    {
     "data": {
      "text/html": [
       "<div>\n",
       "<style scoped>\n",
       "    .dataframe tbody tr th:only-of-type {\n",
       "        vertical-align: middle;\n",
       "    }\n",
       "\n",
       "    .dataframe tbody tr th {\n",
       "        vertical-align: top;\n",
       "    }\n",
       "\n",
       "    .dataframe thead th {\n",
       "        text-align: right;\n",
       "    }\n",
       "</style>\n",
       "<table border=\"1\" class=\"dataframe\">\n",
       "  <thead>\n",
       "    <tr style=\"text-align: right;\">\n",
       "      <th></th>\n",
       "      <th>User Rating</th>\n",
       "      <th>Reviews</th>\n",
       "      <th>Price</th>\n",
       "      <th>Year</th>\n",
       "      <th>Genre2</th>\n",
       "    </tr>\n",
       "  </thead>\n",
       "  <tbody>\n",
       "    <tr>\n",
       "      <th>count</th>\n",
       "      <td>310.000000</td>\n",
       "      <td>310.000000</td>\n",
       "      <td>310.000000</td>\n",
       "      <td>310.000000</td>\n",
       "      <td>310.0</td>\n",
       "    </tr>\n",
       "    <tr>\n",
       "      <th>mean</th>\n",
       "      <td>4.595161</td>\n",
       "      <td>9065.145161</td>\n",
       "      <td>14.841935</td>\n",
       "      <td>2014.058065</td>\n",
       "      <td>0.0</td>\n",
       "    </tr>\n",
       "    <tr>\n",
       "      <th>std</th>\n",
       "      <td>0.189555</td>\n",
       "      <td>8606.737629</td>\n",
       "      <td>12.043241</td>\n",
       "      <td>3.186214</td>\n",
       "      <td>0.0</td>\n",
       "    </tr>\n",
       "    <tr>\n",
       "      <th>min</th>\n",
       "      <td>4.000000</td>\n",
       "      <td>37.000000</td>\n",
       "      <td>0.000000</td>\n",
       "      <td>2009.000000</td>\n",
       "      <td>0.0</td>\n",
       "    </tr>\n",
       "    <tr>\n",
       "      <th>25%</th>\n",
       "      <td>4.500000</td>\n",
       "      <td>3235.000000</td>\n",
       "      <td>8.000000</td>\n",
       "      <td>2011.000000</td>\n",
       "      <td>0.0</td>\n",
       "    </tr>\n",
       "    <tr>\n",
       "      <th>50%</th>\n",
       "      <td>4.600000</td>\n",
       "      <td>6346.000000</td>\n",
       "      <td>12.000000</td>\n",
       "      <td>2014.000000</td>\n",
       "      <td>0.0</td>\n",
       "    </tr>\n",
       "    <tr>\n",
       "      <th>75%</th>\n",
       "      <td>4.700000</td>\n",
       "      <td>11124.250000</td>\n",
       "      <td>17.000000</td>\n",
       "      <td>2017.000000</td>\n",
       "      <td>0.0</td>\n",
       "    </tr>\n",
       "    <tr>\n",
       "      <th>max</th>\n",
       "      <td>4.900000</td>\n",
       "      <td>61133.000000</td>\n",
       "      <td>105.000000</td>\n",
       "      <td>2019.000000</td>\n",
       "      <td>0.0</td>\n",
       "    </tr>\n",
       "  </tbody>\n",
       "</table>\n",
       "</div>"
      ],
      "text/plain": [
       "       User Rating       Reviews       Price         Year  Genre2\n",
       "count   310.000000    310.000000  310.000000   310.000000   310.0\n",
       "mean      4.595161   9065.145161   14.841935  2014.058065     0.0\n",
       "std       0.189555   8606.737629   12.043241     3.186214     0.0\n",
       "min       4.000000     37.000000    0.000000  2009.000000     0.0\n",
       "25%       4.500000   3235.000000    8.000000  2011.000000     0.0\n",
       "50%       4.600000   6346.000000   12.000000  2014.000000     0.0\n",
       "75%       4.700000  11124.250000   17.000000  2017.000000     0.0\n",
       "max       4.900000  61133.000000  105.000000  2019.000000     0.0"
      ]
     },
     "execution_count": 68,
     "metadata": {},
     "output_type": "execute_result"
    }
   ],
   "source": [
    "# On regarde les statistiques descriptives de la dataframe df_nonfiction, \n",
    "#      une dataframe qui ne contient que les livres qui ne sont pas de la fiction\n",
    "df_nonfiction.describe()"
   ]
  },
  {
   "cell_type": "code",
   "execution_count": 69,
   "metadata": {},
   "outputs": [],
   "source": [
    "# On fait une régression du prix des livres de non fiction en fonction des notes, du nombres de vies et de l'année\n",
    "X = df_nonfiction[['User Rating', 'Reviews','Year']]\n",
    "y = df_nonfiction['Price']"
   ]
  },
  {
   "cell_type": "code",
   "execution_count": 70,
   "metadata": {},
   "outputs": [],
   "source": [
    "# On sépare en deux la dataframe : 25% du dataframe pour le modele testé et 75% pour le modèle d'entrainement\n",
    "X_train,X_test,y_train,y_test = train_test_split(X,y,test_size=0.25,random_state=0)"
   ]
  },
  {
   "cell_type": "code",
   "execution_count": 71,
   "metadata": {},
   "outputs": [
    {
     "name": "stderr",
     "output_type": "stream",
     "text": [
      "C:\\Users\\Johanne\\Anaconda3\\lib\\site-packages\\sklearn\\linear_model\\logistic.py:432: FutureWarning: Default solver will be changed to 'lbfgs' in 0.22. Specify a solver to silence this warning.\n",
      "  FutureWarning)\n",
      "C:\\Users\\Johanne\\Anaconda3\\lib\\site-packages\\sklearn\\linear_model\\logistic.py:469: FutureWarning: Default multi_class will be changed to 'auto' in 0.22. Specify the multi_class option to silence this warning.\n",
      "  \"this warning.\", FutureWarning)\n"
     ]
    }
   ],
   "source": [
    "logistic_regression= LogisticRegression()\n",
    "logistic_regression.fit(X_train,y_train)\n",
    "y_pred = logistic_regression.predict(X_test)"
   ]
  },
  {
   "cell_type": "code",
   "execution_count": 72,
   "metadata": {},
   "outputs": [
    {
     "name": "stdout",
     "output_type": "stream",
     "text": [
      "Accuracy:  0.08974358974358974\n"
     ]
    }
   ],
   "source": [
    "# On calcul l'accuracy\n",
    "print('Accuracy: ',metrics.accuracy_score(y_test, y_pred))\n",
    "plt.show()"
   ]
  },
  {
   "cell_type": "code",
   "execution_count": 73,
   "metadata": {},
   "outputs": [],
   "source": [
    "# On teste le modèle pour d'autres valeurs choisies \n",
    "new = {'User Rating': [4.6,4.7,4.5,4.9,4.6],\n",
    "                  'Reviews': [3207,23308,22641,7861,1204],\n",
    "                  'Year': [2009,2013,2015,2016,2010]\n",
    "      }\n",
    "\n",
    "df2 = pd.DataFrame(new,columns= ['User Rating', 'Reviews','Year'])"
   ]
  },
  {
   "cell_type": "markdown",
   "metadata": {},
   "source": [
    "On test le modèle sur les livres suivants :\n",
    "- The Five Dysfunctions of a Team: A Leadership Fable, par Patrick Lencioni --> 6\n",
    "- The Four Agreements: A Practical Guide to Personal Freedom (A Toltec Wisdom Book), par Don Miguel Ruiz --> 6\n",
    "- The Life-Changing Magic of Tidying Up: The Japanese Art of Decluttering and Organizing, par Marie Kondō --> 11\n",
    "- The Magnolia Story, par Chip Gaines --> 5\n",
    "- The Road to Serfdom: Text and Documents--The Definitive Edition (The Collected Works of F. A. Hayek, Volume 2), par F. A. Hayek --> 14\n"
   ]
  },
  {
   "cell_type": "code",
   "execution_count": 74,
   "metadata": {},
   "outputs": [
    {
     "name": "stdout",
     "output_type": "stream",
     "text": [
      "   User Rating  Reviews  Year\n",
      "0          4.6     3207  2009\n",
      "1          4.7    23308  2013\n",
      "2          4.5    22641  2015\n",
      "3          4.9     7861  2016\n",
      "4          4.6     1204  2010\n",
      "Voici les prédictions de notre régression :\n",
      "[9 8 8 6 9]\n"
     ]
    }
   ],
   "source": [
    "# On prédit le modèle\n",
    "y_pred=logistic_regression.predict(df2)\n",
    "print (df2)\n",
    "print(\"Voici les prédictions de notre régression :\")\n",
    "print (y_pred)"
   ]
  },
  {
   "cell_type": "code",
   "execution_count": 75,
   "metadata": {},
   "outputs": [
    {
     "name": "stdout",
     "output_type": "stream",
     "text": [
      "(248, 3)\n",
      "(62, 3)\n",
      "(248,)\n",
      "(62,)\n"
     ]
    }
   ],
   "source": [
    "X = pd.DataFrame(np.c_[df_nonfiction['User Rating'],df_nonfiction['Reviews'],df_nonfiction['Year']], columns = ['User Rating','Reviews','Year'])\n",
    "Y = df_nonfiction['Price']\n",
    " \n",
    "X_train, X_test, Y_train, Y_test = train_test_split(X, Y, test_size = 0.2, random_state=5)\n",
    "print(X_train.shape)\n",
    "print(X_test.shape)\n",
    "print(Y_train.shape)\n",
    "print(Y_test.shape)"
   ]
  },
  {
   "cell_type": "code",
   "execution_count": 76,
   "metadata": {},
   "outputs": [
    {
     "data": {
      "text/plain": [
       "LinearRegression(copy_X=True, fit_intercept=True, n_jobs=None, normalize=False)"
      ]
     },
     "execution_count": 76,
     "metadata": {},
     "output_type": "execute_result"
    }
   ],
   "source": [
    "# On entraine le modèle\n",
    "from sklearn.linear_model import LinearRegression\n",
    "from sklearn.metrics import mean_squared_error\n",
    " \n",
    "lmodellineaire = LinearRegression()\n",
    "lmodellineaire.fit(X_train, Y_train)"
   ]
  },
  {
   "cell_type": "code",
   "execution_count": 77,
   "metadata": {},
   "outputs": [
    {
     "name": "stdout",
     "output_type": "stream",
     "text": [
      "La performance du modèle sur la base dapprentissage\n",
      "--------------------------------------\n",
      "Lerreur quadratique moyenne est 12.203752804527278\n",
      "Le score R2 est 0.042757788849903444\n",
      "\n",
      "\n",
      "La performance du modèle sur la base de test\n",
      "--------------------------------------\n",
      "Lerreur quadratique moyenne est 9.90056801472373\n",
      "Le score R2 est 0.02478032983458356\n"
     ]
    }
   ],
   "source": [
    "# On évalue le modèle d'entrainement\n",
    "from sklearn.metrics import r2_score\n",
    "y_train_predict = lmodellineaire.predict(X_train)\n",
    "rmse = (np.sqrt(mean_squared_error(Y_train, y_train_predict)))\n",
    "r2 = r2_score(Y_train, y_train_predict)\n",
    " \n",
    "print('La performance du modèle sur la base dapprentissage')\n",
    "print('--------------------------------------')\n",
    "print('Lerreur quadratique moyenne est {}'.format(rmse))\n",
    "print('Le score R2 est {}'.format(r2))\n",
    "print('\\n')\n",
    " \n",
    "# On évalue le modèle sur le jeu de données test \n",
    "y_test_predict = lmodellineaire.predict(X_test)\n",
    "rmse = (np.sqrt(mean_squared_error(Y_test, y_test_predict)))\n",
    "r2 = r2_score(Y_test, y_test_predict)\n",
    " \n",
    "print('La performance du modèle sur la base de test')\n",
    "print('--------------------------------------')\n",
    "print('Lerreur quadratique moyenne est {}'.format(rmse))\n",
    "print('Le score R2 est {}'.format(r2))"
   ]
  },
  {
   "cell_type": "code",
   "execution_count": 78,
   "metadata": {},
   "outputs": [
    {
     "data": {
      "text/plain": [
       "LinearRegression(copy_X=True, fit_intercept=True, n_jobs=None, normalize=False)"
      ]
     },
     "execution_count": 78,
     "metadata": {},
     "output_type": "execute_result"
    }
   ],
   "source": [
    "# On crée une régression linéaire\n",
    "regr = linear_model.LinearRegression()\n",
    "\n",
    "# On entraine le modèle sur le jeu de données d'entrainement\n",
    "regr.fit(X_train, Y_train)"
   ]
  },
  {
   "cell_type": "code",
   "execution_count": 79,
   "metadata": {},
   "outputs": [
    {
     "data": {
      "image/png": "[encoded data removed]",
      "text/plain": [
       "<Figure size 432x288 with 1 Axes>"
      ]
     },
     "metadata": {
      "needs_background": "light"
     },
     "output_type": "display_data"
    }
   ],
   "source": [
    "# On estime des valeurs pour ces mêmes points d'entrainement \n",
    "y_opti = regr.predict(X_train)\n",
    "\n",
    "plt.scatter(y_opti, Y_train,  color='black')\n",
    "plt.show()"
   ]
  },
  {
   "cell_type": "code",
   "execution_count": 80,
   "metadata": {},
   "outputs": [
    {
     "data": {
      "image/png": "[encoded data removed]",
      "text/plain": [
       "<Figure size 432x288 with 1 Axes>"
      ]
     },
     "metadata": {
      "needs_background": "light"
     },
     "output_type": "display_data"
    }
   ],
   "source": [
    "# On fait les prédictions sur le modèle de test\n",
    "y_pred = regr.predict(X_test)\n",
    "\n",
    "plt.scatter(Y_test, y_pred,  color='black')\n",
    "plt.show()"
   ]
  },
  {
   "cell_type": "code",
   "execution_count": 81,
   "metadata": {},
   "outputs": [
    {
     "name": "stdout",
     "output_type": "stream",
     "text": [
      "Mean squared error: 148.93\n"
     ]
    }
   ],
   "source": [
    "# On calcul la MSE sur y_opti\n",
    "MSE_optim = mean_squared_error(Y_train, y_opti)\n",
    "print('Mean squared error: %.2f'\n",
    "      % MSE_optim)"
   ]
  },
  {
   "cell_type": "code",
   "execution_count": 82,
   "metadata": {},
   "outputs": [
    {
     "name": "stdout",
     "output_type": "stream",
     "text": [
      "Mean squared error: 98.02\n"
     ]
    }
   ],
   "source": [
    "# On calcul le MSE sur les valeurs prédites\n",
    "MSE_pred = mean_squared_error(Y_test, y_pred)\n",
    "print('Mean squared error: %.2f'\n",
    "      % MSE_pred)"
   ]
  },
  {
   "cell_type": "markdown",
   "metadata": {},
   "source": [
    "On applique la PCA sur cette régression."
   ]
  },
  {
   "cell_type": "code",
   "execution_count": 83,
   "metadata": {},
   "outputs": [],
   "source": [
    "import matplotlib\n",
    "import matplotlib.pyplot as plt\n",
    "from sklearn.decomposition import PCA"
   ]
  },
  {
   "cell_type": "code",
   "execution_count": 84,
   "metadata": {},
   "outputs": [],
   "source": [
    "# On centre et on réduit les données \n",
    "dat = X-np.mean(X,axis=0)\n",
    "\n",
    "# On définie la fonction PCA\n",
    "pca = PCA(n_components=3)\n",
    "\n",
    "# On applique la PCA aux données\n",
    "pca.fit(dat)\n",
    "dat_new = pca.transform(dat)"
   ]
  },
  {
   "cell_type": "code",
   "execution_count": 85,
   "metadata": {},
   "outputs": [
    {
     "data": {
      "image/png": "[encoded data removed]",
      "text/plain": [
       "<Figure size 432x288 with 1 Axes>"
      ]
     },
     "metadata": {
      "needs_background": "light"
     },
     "output_type": "display_data"
    }
   ],
   "source": [
    "eigenvalues = pca.singular_values_**2\n",
    "plt.plot(pca.explained_variance_ratio_,linewidth=3,c='blue',label='Var explained')\n",
    "plt.plot(eigenvalues/np.sum(eigenvalues),'--',c='red',linewidth=3,label='Eigenvalues')\n",
    "plt.xlabel('Nb of components')\n",
    "plt.ylabel('Nb of components')\n",
    "plt.legend()\n",
    "plt.show()"
   ]
  },
  {
   "cell_type": "code",
   "execution_count": 86,
   "metadata": {},
   "outputs": [
    {
     "data": {
      "image/png": "[encoded data removed]",
      "text/plain": [
       "<Figure size 432x288 with 1 Axes>"
      ]
     },
     "metadata": {
      "needs_background": "light"
     },
     "output_type": "display_data"
    }
   ],
   "source": [
    "plt.scatter(dat_new[:,1],dat_new[:,2],linewidth=3,c='blue',label='Var explained')\n",
    "plt.show()"
   ]
  },
  {
   "cell_type": "markdown",
   "metadata": {},
   "source": [
    "On s'intéresse maintenant à la base de données ayant les livres de fiction."
   ]
  },
  {
   "cell_type": "code",
   "execution_count": 87,
   "metadata": {},
   "outputs": [
    {
     "data": {
      "text/html": [
       "<div>\n",
       "<style scoped>\n",
       "    .dataframe tbody tr th:only-of-type {\n",
       "        vertical-align: middle;\n",
       "    }\n",
       "\n",
       "    .dataframe tbody tr th {\n",
       "        vertical-align: top;\n",
       "    }\n",
       "\n",
       "    .dataframe thead th {\n",
       "        text-align: right;\n",
       "    }\n",
       "</style>\n",
       "<table border=\"1\" class=\"dataframe\">\n",
       "  <thead>\n",
       "    <tr style=\"text-align: right;\">\n",
       "      <th></th>\n",
       "      <th>User Rating</th>\n",
       "      <th>Reviews</th>\n",
       "      <th>Price</th>\n",
       "      <th>Year</th>\n",
       "      <th>Genre2</th>\n",
       "    </tr>\n",
       "  </thead>\n",
       "  <tbody>\n",
       "    <tr>\n",
       "      <th>count</th>\n",
       "      <td>240.000000</td>\n",
       "      <td>240.000000</td>\n",
       "      <td>240.00000</td>\n",
       "      <td>240.000000</td>\n",
       "      <td>240.0</td>\n",
       "    </tr>\n",
       "    <tr>\n",
       "      <th>mean</th>\n",
       "      <td>4.648333</td>\n",
       "      <td>15683.791667</td>\n",
       "      <td>10.85000</td>\n",
       "      <td>2013.925000</td>\n",
       "      <td>1.0</td>\n",
       "    </tr>\n",
       "    <tr>\n",
       "      <th>std</th>\n",
       "      <td>0.265123</td>\n",
       "      <td>13984.120890</td>\n",
       "      <td>8.57275</td>\n",
       "      <td>3.142801</td>\n",
       "      <td>0.0</td>\n",
       "    </tr>\n",
       "    <tr>\n",
       "      <th>min</th>\n",
       "      <td>3.300000</td>\n",
       "      <td>548.000000</td>\n",
       "      <td>0.00000</td>\n",
       "      <td>2009.000000</td>\n",
       "      <td>1.0</td>\n",
       "    </tr>\n",
       "    <tr>\n",
       "      <th>25%</th>\n",
       "      <td>4.600000</td>\n",
       "      <td>6162.500000</td>\n",
       "      <td>6.00000</td>\n",
       "      <td>2011.000000</td>\n",
       "      <td>1.0</td>\n",
       "    </tr>\n",
       "    <tr>\n",
       "      <th>50%</th>\n",
       "      <td>4.700000</td>\n",
       "      <td>10922.000000</td>\n",
       "      <td>9.00000</td>\n",
       "      <td>2014.000000</td>\n",
       "      <td>1.0</td>\n",
       "    </tr>\n",
       "    <tr>\n",
       "      <th>75%</th>\n",
       "      <td>4.800000</td>\n",
       "      <td>21834.000000</td>\n",
       "      <td>13.00000</td>\n",
       "      <td>2017.000000</td>\n",
       "      <td>1.0</td>\n",
       "    </tr>\n",
       "    <tr>\n",
       "      <th>max</th>\n",
       "      <td>4.900000</td>\n",
       "      <td>87841.000000</td>\n",
       "      <td>82.00000</td>\n",
       "      <td>2019.000000</td>\n",
       "      <td>1.0</td>\n",
       "    </tr>\n",
       "  </tbody>\n",
       "</table>\n",
       "</div>"
      ],
      "text/plain": [
       "       User Rating       Reviews      Price         Year  Genre2\n",
       "count   240.000000    240.000000  240.00000   240.000000   240.0\n",
       "mean      4.648333  15683.791667   10.85000  2013.925000     1.0\n",
       "std       0.265123  13984.120890    8.57275     3.142801     0.0\n",
       "min       3.300000    548.000000    0.00000  2009.000000     1.0\n",
       "25%       4.600000   6162.500000    6.00000  2011.000000     1.0\n",
       "50%       4.700000  10922.000000    9.00000  2014.000000     1.0\n",
       "75%       4.800000  21834.000000   13.00000  2017.000000     1.0\n",
       "max       4.900000  87841.000000   82.00000  2019.000000     1.0"
      ]
     },
     "execution_count": 87,
     "metadata": {},
     "output_type": "execute_result"
    }
   ],
   "source": [
    "df_fiction.describe()"
   ]
  },
  {
   "cell_type": "code",
   "execution_count": 88,
   "metadata": {},
   "outputs": [],
   "source": [
    "# On fait une régression logistique des prix des livres de fictions en fonction des notes, du nombres de vues et de l'année\n",
    "X = df_fiction[['User Rating', 'Reviews','Year']]\n",
    "y = df_fiction['Price']"
   ]
  },
  {
   "cell_type": "code",
   "execution_count": 89,
   "metadata": {},
   "outputs": [],
   "source": [
    "# On sépare la dataframe en deux : 25% du dataframe pour le modèle testé et 75% pour le modèle d'entrainement\n",
    "X_train,X_test,y_train,y_test = train_test_split(X,y,test_size=0.25,random_state=0)"
   ]
  },
  {
   "cell_type": "code",
   "execution_count": 90,
   "metadata": {},
   "outputs": [
    {
     "name": "stderr",
     "output_type": "stream",
     "text": [
      "C:\\Users\\Johanne\\Anaconda3\\lib\\site-packages\\sklearn\\linear_model\\logistic.py:432: FutureWarning: Default solver will be changed to 'lbfgs' in 0.22. Specify a solver to silence this warning.\n",
      "  FutureWarning)\n",
      "C:\\Users\\Johanne\\Anaconda3\\lib\\site-packages\\sklearn\\linear_model\\logistic.py:469: FutureWarning: Default multi_class will be changed to 'auto' in 0.22. Specify the multi_class option to silence this warning.\n",
      "  \"this warning.\", FutureWarning)\n"
     ]
    }
   ],
   "source": [
    "logistic_regression= LogisticRegression()\n",
    "logistic_regression.fit(X_train,y_train)\n",
    "y_pred = logistic_regression.predict(X_test)"
   ]
  },
  {
   "cell_type": "code",
   "execution_count": 91,
   "metadata": {},
   "outputs": [
    {
     "name": "stdout",
     "output_type": "stream",
     "text": [
      "Accuracy:  0.18333333333333332\n"
     ]
    }
   ],
   "source": [
    "# On calcul l'accuracy\n",
    "print('Accuracy: ',metrics.accuracy_score(y_test, y_pred))\n",
    "plt.show()"
   ]
  },
  {
   "cell_type": "code",
   "execution_count": 92,
   "metadata": {},
   "outputs": [],
   "source": [
    "# On teste le modèle pour des valeurs choisies\n",
    "new = {'User Rating': [4.6,4.7,4.9,4.9,4.5],\n",
    "                  'Reviews': [19720,1463,19546,8842,2586],\n",
    "                  'Year': [2009,2011,2014,2019,2014]\n",
    "      }\n",
    "\n",
    "df2 = pd.DataFrame(new,columns= ['User Rating', 'Reviews','Year'])"
   ]
  },
  {
   "cell_type": "markdown",
   "metadata": {},
   "source": [
    "On choisit les livres suivants :\n",
    "- The Shack: Where Tragedy Confronts Eternity, par William P. Young --> 8\n",
    "- The Throne of Fire (The Kane Chronicles, Book 2), par Rick Riordan --> 10\n",
    "- The Very Hungry Caterpillar, par Eric Carle --> 5\n",
    "- The Wonderful Things You Will Be, par Emily Winfield Martin --> 10\n",
    "- Ultimate Sticker Book: Frozen: More Than 60 Reusable Full-Color Stickers, par DK --> 5"
   ]
  },
  {
   "cell_type": "code",
   "execution_count": 93,
   "metadata": {},
   "outputs": [
    {
     "name": "stdout",
     "output_type": "stream",
     "text": [
      "   User Rating  Reviews  Year\n",
      "0          4.6    19720  2009\n",
      "1          4.7     1463  2011\n",
      "2          4.9    19546  2014\n",
      "3          4.9     8842  2019\n",
      "4          4.5     2586  2014\n",
      "Voici les prédictions de notre régression :\n",
      "[8 5 5 5 5]\n"
     ]
    }
   ],
   "source": [
    "# On prédit les valeurs\n",
    "y_pred=logistic_regression.predict(df2)\n",
    "print (df2)\n",
    "print(\"Voici les prédictions de notre régression :\")\n",
    "print (y_pred)"
   ]
  },
  {
   "cell_type": "code",
   "execution_count": 94,
   "metadata": {},
   "outputs": [
    {
     "name": "stdout",
     "output_type": "stream",
     "text": [
      "(192, 3)\n",
      "(48, 3)\n",
      "(192,)\n",
      "(48,)\n"
     ]
    }
   ],
   "source": [
    "X=pd.DataFrame(np.c_[df_fiction['User Rating'],df_fiction['Reviews'],df_fiction['Year']], columns = ['User Rating','Reviews','Year'])\n",
    "Y = df_fiction['Price']\n",
    " \n",
    "X_train, X_test, Y_train, Y_test = train_test_split(X, Y, test_size = 0.2, random_state=5)\n",
    "print(X_train.shape)\n",
    "print(X_test.shape)\n",
    "print(Y_train.shape)\n",
    "print(Y_test.shape)"
   ]
  },
  {
   "cell_type": "code",
   "execution_count": 95,
   "metadata": {},
   "outputs": [
    {
     "data": {
      "text/plain": [
       "LinearRegression(copy_X=True, fit_intercept=True, n_jobs=None, normalize=False)"
      ]
     },
     "execution_count": 95,
     "metadata": {},
     "output_type": "execute_result"
    }
   ],
   "source": [
    "# On entraine le modèle\n",
    "from sklearn.linear_model import LinearRegression\n",
    "from sklearn.metrics import mean_squared_error\n",
    " \n",
    "lmodellineaire = LinearRegression()\n",
    "lmodellineaire.fit(X_train, Y_train)"
   ]
  },
  {
   "cell_type": "code",
   "execution_count": 96,
   "metadata": {},
   "outputs": [
    {
     "name": "stdout",
     "output_type": "stream",
     "text": [
      "La performance du modèle sur la base dapprentissage\n",
      "--------------------------------------\n",
      "Lerreur quadratique moyenne est 8.825447685465226\n",
      "Le score R2 est 0.024822082784066946\n",
      "\n",
      "\n",
      "La performance du modèle sur la base de test\n",
      "--------------------------------------\n",
      "Lerreur quadratique moyenne est 6.612061227226312\n",
      "Le score R2 est 0.05556751742380861\n"
     ]
    }
   ],
   "source": [
    "# On évalue le modèle d'entrainement\n",
    "from sklearn.metrics import r2_score\n",
    "y_train_predict = lmodellineaire.predict(X_train)\n",
    "rmse = (np.sqrt(mean_squared_error(Y_train, y_train_predict)))\n",
    "r2 = r2_score(Y_train, y_train_predict)\n",
    " \n",
    "print('La performance du modèle sur la base dapprentissage')\n",
    "print('--------------------------------------')\n",
    "print('Lerreur quadratique moyenne est {}'.format(rmse))\n",
    "print('Le score R2 est {}'.format(r2))\n",
    "print('\\n')\n",
    " \n",
    "# model evaluation for testing set\n",
    "y_test_predict = lmodellineaire.predict(X_test)\n",
    "rmse = (np.sqrt(mean_squared_error(Y_test, y_test_predict)))\n",
    "r2 = r2_score(Y_test, y_test_predict)\n",
    " \n",
    "print('La performance du modèle sur la base de test')\n",
    "print('--------------------------------------')\n",
    "print('Lerreur quadratique moyenne est {}'.format(rmse))\n",
    "print('Le score R2 est {}'.format(r2))"
   ]
  },
  {
   "cell_type": "code",
   "execution_count": 97,
   "metadata": {},
   "outputs": [
    {
     "data": {
      "text/plain": [
       "LinearRegression(copy_X=True, fit_intercept=True, n_jobs=None, normalize=False)"
      ]
     },
     "execution_count": 97,
     "metadata": {},
     "output_type": "execute_result"
    }
   ],
   "source": [
    "# On crée une régression linéaire\n",
    "regr = linear_model.LinearRegression()\n",
    "\n",
    "# On entraine le modèle d'entrainement\n",
    "regr.fit(X_train, Y_train)"
   ]
  },
  {
   "cell_type": "code",
   "execution_count": 98,
   "metadata": {},
   "outputs": [
    {
     "data": {
      "image/png": "[encoded data removed]",
      "text/plain": [
       "<Figure size 432x288 with 1 Axes>"
      ]
     },
     "metadata": {
      "needs_background": "light"
     },
     "output_type": "display_data"
    }
   ],
   "source": [
    "# On estime les valeurs de ces mêmes points d'entrainement \n",
    "y_opti = regr.predict(X_train)\n",
    "\n",
    "plt.scatter(y_opti, Y_train,  color='black')\n",
    "plt.show()"
   ]
  },
  {
   "cell_type": "code",
   "execution_count": 99,
   "metadata": {},
   "outputs": [
    {
     "data": {
      "image/png": "[encoded data removed]",
      "text/plain": [
       "<Figure size 432x288 with 1 Axes>"
      ]
     },
     "metadata": {
      "needs_background": "light"
     },
     "output_type": "display_data"
    }
   ],
   "source": [
    "# On prédit sur le modèle test\n",
    "y_pred = regr.predict(X_test)\n",
    "\n",
    "plt.scatter(Y_test, y_pred,  color='black')\n",
    "plt.show()"
   ]
  },
  {
   "cell_type": "code",
   "execution_count": 100,
   "metadata": {},
   "outputs": [
    {
     "name": "stdout",
     "output_type": "stream",
     "text": [
      "Mean squared error: 77.89\n"
     ]
    }
   ],
   "source": [
    "# On calcul la MSE sur y_opti\n",
    "MSE_optim = mean_squared_error(Y_train, y_opti)\n",
    "print('Mean squared error: %.2f'\n",
    "      % MSE_optim)"
   ]
  },
  {
   "cell_type": "code",
   "execution_count": 101,
   "metadata": {},
   "outputs": [
    {
     "name": "stdout",
     "output_type": "stream",
     "text": [
      "Mean squared error: 43.72\n"
     ]
    }
   ],
   "source": [
    "# On calcul la MSE sur les valeurs prédites\n",
    "MSE_pred = mean_squared_error(Y_test, y_pred)\n",
    "print('Mean squared error: %.2f'\n",
    "      % MSE_pred)"
   ]
  },
  {
   "cell_type": "code",
   "execution_count": 102,
   "metadata": {},
   "outputs": [
    {
     "name": "stdout",
     "output_type": "stream",
     "text": [
      "120 120\n"
     ]
    }
   ],
   "source": [
    "X_train, X_test, Y_train, Y_test = train_test_split(X, Y, test_size=0.5, random_state=3)\n",
    "print(len(X_train),len(X_test))"
   ]
  },
  {
   "cell_type": "code",
   "execution_count": 103,
   "metadata": {},
   "outputs": [],
   "source": [
    "# On fait une regression linéaire \n",
    "reg = linear_model.LinearRegression()"
   ]
  },
  {
   "cell_type": "code",
   "execution_count": 104,
   "metadata": {},
   "outputs": [],
   "source": [
    "MSE = np.ones((3,1))*10**25\n",
    "for dd in range(2,1,-1):\n",
    "    X_train = X_train.iloc[:, 1:dd]\n",
    "    X_test = X_test.iloc[:, 1:dd]\n",
    "    \n",
    "    reg.fit(X_train, Y_train)\n",
    "    pred_test = reg.predict(X_test)\n",
    "    MSE[dd] = mean_squared_error(Y_test, pred_test)"
   ]
  },
  {
   "cell_type": "code",
   "execution_count": 105,
   "metadata": {},
   "outputs": [
    {
     "data": {
      "image/png": "[encoded data removed]",
      "text/plain": [
       "<Figure size 432x288 with 1 Axes>"
      ]
     },
     "metadata": {
      "needs_background": "light"
     },
     "output_type": "display_data"
    }
   ],
   "source": [
    "plt.plot(range(0,3), MSE[0:], color='red', linewidth=3)\n",
    "plt.title('Error of the estimators')\n",
    "plt.ylabel('MSE')\n",
    "plt.xlabel('Dimension')\n",
    "plt.show()"
   ]
  },
  {
   "cell_type": "code",
   "execution_count": 106,
   "metadata": {},
   "outputs": [
    {
     "data": {
      "image/png": "[encoded data removed]",
      "text/plain": [
       "<Figure size 432x288 with 1 Axes>"
      ]
     },
     "metadata": {
      "needs_background": "light"
     },
     "output_type": "display_data"
    }
   ],
   "source": [
    "plt.plot(range(1,3), MSE[1:], color='red', linewidth=3)\n",
    "plt.title('Error of the estimators')\n",
    "plt.ylabel('MSE')\n",
    "plt.xlabel('Dimension')\n",
    "plt.show()"
   ]
  },
  {
   "cell_type": "markdown",
   "metadata": {},
   "source": [
    "On applique la PCA sur cette régression logistique."
   ]
  },
  {
   "cell_type": "code",
   "execution_count": 107,
   "metadata": {},
   "outputs": [],
   "source": [
    "import matplotlib\n",
    "import matplotlib.pyplot as plt\n",
    "from sklearn.decomposition import PCA"
   ]
  },
  {
   "cell_type": "code",
   "execution_count": 108,
   "metadata": {},
   "outputs": [],
   "source": [
    "# On centre et on réduit les données\n",
    "dat = X-np.mean(X,axis=0)\n",
    "\n",
    "# On définie la fonction PCA\n",
    "pca = PCA(n_components=3)\n",
    "\n",
    "# On applique la PCA aux données\n",
    "pca.fit(dat)\n",
    "dat_new = pca.transform(dat)"
   ]
  },
  {
   "cell_type": "code",
   "execution_count": 109,
   "metadata": {},
   "outputs": [
    {
     "data": {
      "image/png": "[encoded data removed]",
      "text/plain": [
       "<Figure size 432x288 with 1 Axes>"
      ]
     },
     "metadata": {
      "needs_background": "light"
     },
     "output_type": "display_data"
    }
   ],
   "source": [
    "eigenvalues = pca.singular_values_**2\n",
    "plt.plot(pca.explained_variance_ratio_,linewidth=3,c='blue',label='Var explained')\n",
    "plt.plot(eigenvalues/np.sum(eigenvalues),'--',c='red',linewidth=3,label='Eigenvalues')\n",
    "plt.xlabel('Nb of components')\n",
    "plt.ylabel('Nb of components')\n",
    "plt.legend()\n",
    "plt.show()"
   ]
  },
  {
   "cell_type": "code",
   "execution_count": 110,
   "metadata": {},
   "outputs": [
    {
     "data": {
      "image/png": "[encoded data removed]",
      "text/plain": [
       "<Figure size 432x288 with 1 Axes>"
      ]
     },
     "metadata": {
      "needs_background": "light"
     },
     "output_type": "display_data"
    }
   ],
   "source": [
    "plt.scatter(dat_new[:,1],dat_new[:,2],linewidth=3,c='blue',label='Var explained')\n",
    "plt.show()"
   ]
  },
  {
   "cell_type": "code",
   "execution_count": null,
   "metadata": {},
   "outputs": [],
   "source": []
  },
  {
   "cell_type": "code",
   "execution_count": null,
   "metadata": {},
   "outputs": [],
   "source": []
  }
 ],
 "metadata": {
  "kernelspec": {
   "display_name": "Python 3",
   "language": "python",
   "name": "python3"
  },
  "language_info": {
   "codemirror_mode": {
    "name": "ipython",
    "version": 3
   },
   "file_extension": ".py",
   "mimetype": "text/x-python",
   "name": "python",
   "nbconvert_exporter": "python",
   "pygments_lexer": "ipython3",
   "version": "3.7.3"
  }
 },
 "nbformat": 4,
 "nbformat_minor": 4
}
